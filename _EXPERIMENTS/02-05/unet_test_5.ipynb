{
 "cells": [
  {
   "cell_type": "code",
   "execution_count": 1,
   "id": "eeae56a2",
   "metadata": {},
   "outputs": [
    {
     "name": "stdout",
     "output_type": "stream",
     "text": [
      "%pylab is deprecated, use %matplotlib inline and import the required libraries.\n",
      "Populating the interactive namespace from numpy and matplotlib\n"
     ]
    }
   ],
   "source": [
    "%pylab inline"
   ]
  },
  {
   "cell_type": "code",
   "execution_count": 2,
   "id": "56475f79",
   "metadata": {},
   "outputs": [],
   "source": [
    "import os"
   ]
  },
  {
   "cell_type": "code",
   "execution_count": 3,
   "id": "e9814c5b",
   "metadata": {},
   "outputs": [
    {
     "name": "stdout",
     "output_type": "stream",
     "text": [
      "Requirement already satisfied: keras-unet in /home/kunal.jain001/miniconda3/envs/TF25/lib/python3.9/site-packages (0.1.2)\r\n"
     ]
    }
   ],
   "source": [
    "!pip install keras-unet"
   ]
  },
  {
   "cell_type": "code",
   "execution_count": 4,
   "id": "7dd22d57",
   "metadata": {},
   "outputs": [
    {
     "name": "stderr",
     "output_type": "stream",
     "text": [
      "2023-02-08 12:13:59.335909: I tensorflow/stream_executor/platform/default/dso_loader.cc:53] Successfully opened dynamic library libcudart.so.11.0\n"
     ]
    },
    {
     "name": "stdout",
     "output_type": "stream",
     "text": [
      "-----------------------------------------\n",
      "keras-unet init: TF version is >= 2.0.0 - using `tf.keras` instead of `Keras`\n",
      "-----------------------------------------\n"
     ]
    }
   ],
   "source": [
    "import keras\n",
    "from keras_unet.models import custom_unet"
   ]
  },
  {
   "cell_type": "code",
   "execution_count": 5,
   "id": "071d8164",
   "metadata": {},
   "outputs": [],
   "source": [
    "DATAPATH = '/raid/mpsych/RISTERLAB/fly_segmentation_experiments/classified_images/npy_files'\n",
    "images_file = os.path.join(DATAPATH, 'fly-feb-05-original-images.npy')\n",
    "labels_file = os.path.join(DATAPATH, 'fly-feb-05-segmented.npy')"
   ]
  },
  {
   "cell_type": "code",
   "execution_count": 6,
   "id": "32b4ff86",
   "metadata": {},
   "outputs": [],
   "source": [
    "images = np.load(images_file)\n",
    "labels = np.load(labels_file)"
   ]
  },
  {
   "cell_type": "code",
   "execution_count": 7,
   "id": "c20f6410",
   "metadata": {},
   "outputs": [
    {
     "data": {
      "text/plain": [
       "(140, 512, 2048)"
      ]
     },
     "execution_count": 7,
     "metadata": {},
     "output_type": "execute_result"
    }
   ],
   "source": [
    "images.shape"
   ]
  },
  {
   "cell_type": "code",
   "execution_count": 8,
   "id": "88d23a38",
   "metadata": {},
   "outputs": [],
   "source": [
    "# full dataset does not have the last channel\n",
    "images = images.reshape(images.shape[0],images.shape[1],images.shape[2],1)\n",
    "labels = labels.reshape(labels.shape[0],labels.shape[1],labels.shape[2],1)"
   ]
  },
  {
   "cell_type": "code",
   "execution_count": 9,
   "id": "49f365b9",
   "metadata": {},
   "outputs": [
    {
     "data": {
      "text/plain": [
       "(140, 512, 2048, 1)"
      ]
     },
     "execution_count": 9,
     "metadata": {},
     "output_type": "execute_result"
    }
   ],
   "source": [
    "images.shape"
   ]
  },
  {
   "cell_type": "code",
   "execution_count": 10,
   "id": "1f08d311",
   "metadata": {},
   "outputs": [],
   "source": [
    "p = np.random.permutation(len(images))"
   ]
  },
  {
   "cell_type": "code",
   "execution_count": 11,
   "id": "e974d7b6",
   "metadata": {},
   "outputs": [],
   "source": [
    "images = images[p]\n",
    "labels = labels[p]"
   ]
  },
  {
   "cell_type": "code",
   "execution_count": 12,
   "id": "f5e7eabf",
   "metadata": {},
   "outputs": [],
   "source": [
    "labels = labels.astype(np.float64)"
   ]
  },
  {
   "cell_type": "code",
   "execution_count": 13,
   "id": "b681b4ba",
   "metadata": {},
   "outputs": [],
   "source": [
    "images = images.astype(np.float64)\n",
    "\n",
    "for i in range(images.shape[0]):\n",
    "    images[i] = (images[i] - images[i].min()) / (images[i].max() - images[i].min()) # normalize individually"
   ]
  },
  {
   "cell_type": "code",
   "execution_count": 14,
   "id": "cfc1bb55",
   "metadata": {},
   "outputs": [
    {
     "data": {
      "text/plain": [
       "(140, 512, 2048, 1)"
      ]
     },
     "execution_count": 14,
     "metadata": {},
     "output_type": "execute_result"
    }
   ],
   "source": [
    "images.shape"
   ]
  },
  {
   "cell_type": "code",
   "execution_count": 15,
   "id": "8afad9f4",
   "metadata": {},
   "outputs": [],
   "source": [
    "X_train = images[0:100]\n",
    "y_train = labels[0:100]\n",
    "X_val = images[100:125]\n",
    "y_val = labels[100:125]\n",
    "X_test = images[125:]\n",
    "y_test = labels[125:]"
   ]
  },
  {
   "cell_type": "code",
   "execution_count": null,
   "id": "e878a147",
   "metadata": {},
   "outputs": [],
   "source": []
  },
  {
   "cell_type": "code",
   "execution_count": 16,
   "id": "b591ce23",
   "metadata": {},
   "outputs": [
    {
     "name": "stderr",
     "output_type": "stream",
     "text": [
      "2023-02-08 12:14:02.832231: I tensorflow/stream_executor/platform/default/dso_loader.cc:53] Successfully opened dynamic library libcuda.so.1\n",
      "2023-02-08 12:14:02.966617: I tensorflow/core/common_runtime/gpu/gpu_device.cc:1733] Found device 0 with properties: \n",
      "pciBusID: 0000:b7:00.0 name: A100-SXM4-40GB computeCapability: 8.0\n",
      "coreClock: 1.41GHz coreCount: 108 deviceMemorySize: 39.59GiB deviceMemoryBandwidth: 1.41TiB/s\n",
      "2023-02-08 12:14:02.966656: I tensorflow/stream_executor/platform/default/dso_loader.cc:53] Successfully opened dynamic library libcudart.so.11.0\n",
      "2023-02-08 12:14:02.984022: I tensorflow/stream_executor/platform/default/dso_loader.cc:53] Successfully opened dynamic library libcublas.so.11\n",
      "2023-02-08 12:14:02.984053: I tensorflow/stream_executor/platform/default/dso_loader.cc:53] Successfully opened dynamic library libcublasLt.so.11\n",
      "2023-02-08 12:14:02.990350: I tensorflow/stream_executor/platform/default/dso_loader.cc:53] Successfully opened dynamic library libcufft.so.10\n",
      "2023-02-08 12:14:02.993374: I tensorflow/stream_executor/platform/default/dso_loader.cc:53] Successfully opened dynamic library libcurand.so.10\n",
      "2023-02-08 12:14:02.996065: I tensorflow/stream_executor/platform/default/dso_loader.cc:53] Successfully opened dynamic library libcusolver.so.11\n",
      "2023-02-08 12:14:03.000260: I tensorflow/stream_executor/platform/default/dso_loader.cc:53] Successfully opened dynamic library libcusparse.so.11\n",
      "2023-02-08 12:14:03.001404: I tensorflow/stream_executor/platform/default/dso_loader.cc:53] Successfully opened dynamic library libcudnn.so.8\n",
      "2023-02-08 12:14:03.017578: I tensorflow/core/common_runtime/gpu/gpu_device.cc:1871] Adding visible gpu devices: 0\n",
      "2023-02-08 12:14:03.018221: I tensorflow/core/platform/cpu_feature_guard.cc:142] This TensorFlow binary is optimized with oneAPI Deep Neural Network Library (oneDNN) to use the following CPU instructions in performance-critical operations:  AVX2 FMA\n",
      "To enable them in other operations, rebuild TensorFlow with the appropriate compiler flags.\n",
      "2023-02-08 12:14:03.021791: I tensorflow/core/common_runtime/gpu/gpu_device.cc:1733] Found device 0 with properties: \n",
      "pciBusID: 0000:b7:00.0 name: A100-SXM4-40GB computeCapability: 8.0\n",
      "coreClock: 1.41GHz coreCount: 108 deviceMemorySize: 39.59GiB deviceMemoryBandwidth: 1.41TiB/s\n",
      "2023-02-08 12:14:03.029260: I tensorflow/core/common_runtime/gpu/gpu_device.cc:1871] Adding visible gpu devices: 0\n",
      "2023-02-08 12:14:03.029601: I tensorflow/stream_executor/platform/default/dso_loader.cc:53] Successfully opened dynamic library libcudart.so.11.0\n",
      "2023-02-08 12:14:03.713409: I tensorflow/core/common_runtime/gpu/gpu_device.cc:1258] Device interconnect StreamExecutor with strength 1 edge matrix:\n",
      "2023-02-08 12:14:03.713454: I tensorflow/core/common_runtime/gpu/gpu_device.cc:1264]      0 \n",
      "2023-02-08 12:14:03.713460: I tensorflow/core/common_runtime/gpu/gpu_device.cc:1277] 0:   N \n",
      "2023-02-08 12:14:03.721081: I tensorflow/core/common_runtime/gpu/gpu_device.cc:1418] Created TensorFlow device (/job:localhost/replica:0/task:0/device:GPU:0 with 38425 MB memory) -> physical GPU (device: 0, name: A100-SXM4-40GB, pci bus id: 0000:b7:00.0, compute capability: 8.0)\n"
     ]
    }
   ],
   "source": [
    "model = custom_unet(\n",
    "    input_shape=(512, 2048, 1),\n",
    "    use_batch_norm=False,\n",
    "    num_classes=1,\n",
    "    filters=32,\n",
    "    dropout=0.5,\n",
    "    output_activation='sigmoid')"
   ]
  },
  {
   "cell_type": "code",
   "execution_count": 17,
   "id": "d8fd6552",
   "metadata": {},
   "outputs": [],
   "source": [
    "import keras.optimizers\n",
    "from keras_unet.metrics import iou, iou_thresholded\n",
    "from keras_unet.losses import jaccard_distance"
   ]
  },
  {
   "cell_type": "code",
   "execution_count": null,
   "id": "1fd77967",
   "metadata": {},
   "outputs": [],
   "source": []
  },
  {
   "cell_type": "code",
   "execution_count": null,
   "id": "e549d6a5",
   "metadata": {},
   "outputs": [],
   "source": []
  },
  {
   "cell_type": "code",
   "execution_count": 18,
   "id": "642990d6",
   "metadata": {},
   "outputs": [],
   "source": [
    "opt = keras.optimizer_v1.Adam(lr=0.01)"
   ]
  },
  {
   "cell_type": "code",
   "execution_count": 19,
   "id": "3f357cf3",
   "metadata": {},
   "outputs": [],
   "source": [
    "model.compile(optimizer = 'Adam',    \n",
    "              loss='binary_crossentropy', \n",
    "              metrics=[iou, iou_thresholded])"
   ]
  },
  {
   "cell_type": "code",
   "execution_count": 20,
   "id": "abe2acfd",
   "metadata": {},
   "outputs": [
    {
     "name": "stderr",
     "output_type": "stream",
     "text": [
      "2023-02-08 12:14:04.641583: I tensorflow/compiler/mlir/mlir_graph_optimization_pass.cc:176] None of the MLIR Optimization Passes are enabled (registered 2)\n",
      "2023-02-08 12:14:04.661168: I tensorflow/core/platform/profile_utils/cpu_utils.cc:114] CPU Frequency: 2245645000 Hz\n"
     ]
    },
    {
     "name": "stdout",
     "output_type": "stream",
     "text": [
      "Epoch 1/100\n"
     ]
    },
    {
     "name": "stderr",
     "output_type": "stream",
     "text": [
      "2023-02-08 12:14:05.966856: I tensorflow/stream_executor/platform/default/dso_loader.cc:53] Successfully opened dynamic library libcudnn.so.8\n",
      "2023-02-08 12:14:06.777268: I tensorflow/stream_executor/cuda/cuda_dnn.cc:359] Loaded cuDNN version 8201\n",
      "2023-02-08 12:14:07.800547: W tensorflow/stream_executor/gpu/asm_compiler.cc:191] Falling back to the CUDA driver for PTX compilation; ptxas does not support CC 8.0\n",
      "2023-02-08 12:14:07.800575: W tensorflow/stream_executor/gpu/asm_compiler.cc:194] Used ptxas at ptxas\n",
      "2023-02-08 12:14:07.800936: W tensorflow/stream_executor/gpu/redzone_allocator.cc:314] Unimplemented: ptxas ptxas too old. Falling back to the driver to compile.\n",
      "Relying on driver to perform ptx compilation. \n",
      "Modify $PATH to customize ptxas location.\n",
      "This message will be only logged once.\n",
      "2023-02-08 12:14:07.982886: I tensorflow/stream_executor/platform/default/dso_loader.cc:53] Successfully opened dynamic library libcublas.so.11\n",
      "2023-02-08 12:14:08.993724: I tensorflow/stream_executor/platform/default/dso_loader.cc:53] Successfully opened dynamic library libcublasLt.so.11\n",
      "2023-02-08 12:14:14.999507: W tensorflow/core/common_runtime/bfc_allocator.cc:271] Allocator (GPU_0_bfc) ran out of memory trying to allocate 3.02GiB with freed_by_count=0. The caller indicates that this is not a failure, but may mean that there could be performance gains if more memory were available.\n",
      "2023-02-08 12:14:15.108437: W tensorflow/core/common_runtime/bfc_allocator.cc:271] Allocator (GPU_0_bfc) ran out of memory trying to allocate 101.00MiB with freed_by_count=0. The caller indicates that this is not a failure, but may mean that there could be performance gains if more memory were available.\n",
      "2023-02-08 12:14:15.108496: W tensorflow/core/common_runtime/bfc_allocator.cc:271] Allocator (GPU_0_bfc) ran out of memory trying to allocate 101.00MiB with freed_by_count=0. The caller indicates that this is not a failure, but may mean that there could be performance gains if more memory were available.\n",
      "2023-02-08 12:14:25.140062: W tensorflow/core/common_runtime/bfc_allocator.cc:456] Allocator (GPU_0_bfc) ran out of memory trying to allocate 4.00GiB (rounded to 4294967296)requested by op model/concatenate_2/concat\n",
      "If the cause is memory fragmentation maybe the environment variable 'TF_GPU_ALLOCATOR=cuda_malloc_async' will improve the situation. \n",
      "Current allocation summary follows.\n",
      "Current allocation summary follows.\n",
      "2023-02-08 12:14:25.140285: I tensorflow/core/common_runtime/bfc_allocator.cc:991] BFCAllocator dump for GPU_0_bfc\n",
      "2023-02-08 12:14:25.140315: I tensorflow/core/common_runtime/bfc_allocator.cc:998] Bin (256): \tTotal Chunks: 83, Chunks in use: 83. 20.8KiB allocated for chunks. 20.8KiB in use in bin. 6.2KiB client-requested in use in bin.\n",
      "2023-02-08 12:14:25.140388: I tensorflow/core/common_runtime/bfc_allocator.cc:998] Bin (512): \tTotal Chunks: 15, Chunks in use: 15. 7.8KiB allocated for chunks. 7.8KiB in use in bin. 7.5KiB client-requested in use in bin.\n",
      "2023-02-08 12:14:25.140466: I tensorflow/core/common_runtime/bfc_allocator.cc:998] Bin (1024): \tTotal Chunks: 19, Chunks in use: 19. 20.2KiB allocated for chunks. 20.2KiB in use in bin. 19.4KiB client-requested in use in bin.\n",
      "2023-02-08 12:14:25.140545: I tensorflow/core/common_runtime/bfc_allocator.cc:998] Bin (2048): \tTotal Chunks: 6, Chunks in use: 6. 12.0KiB allocated for chunks. 12.0KiB in use in bin. 12.0KiB client-requested in use in bin.\n",
      "2023-02-08 12:14:25.140622: I tensorflow/core/common_runtime/bfc_allocator.cc:998] Bin (4096): \tTotal Chunks: 1, Chunks in use: 1. 4.0KiB allocated for chunks. 4.0KiB in use in bin. 4.0KiB client-requested in use in bin.\n",
      "2023-02-08 12:14:25.140635: I tensorflow/core/common_runtime/bfc_allocator.cc:998] Bin (8192): \tTotal Chunks: 1, Chunks in use: 1. 8.0KiB allocated for chunks. 8.0KiB in use in bin. 8.0KiB client-requested in use in bin.\n",
      "2023-02-08 12:14:25.140652: I tensorflow/core/common_runtime/bfc_allocator.cc:998] Bin (16384): \tTotal Chunks: 1, Chunks in use: 1. 16.0KiB allocated for chunks. 16.0KiB in use in bin. 16.0KiB client-requested in use in bin.\n",
      "2023-02-08 12:14:25.140665: I tensorflow/core/common_runtime/bfc_allocator.cc:998] Bin (32768): \tTotal Chunks: 10, Chunks in use: 10. 393.2KiB allocated for chunks. 393.2KiB in use in bin. 344.0KiB client-requested in use in bin.\n",
      "2023-02-08 12:14:25.140679: I tensorflow/core/common_runtime/bfc_allocator.cc:998] Bin (65536): \tTotal Chunks: 7, Chunks in use: 7. 496.0KiB allocated for chunks. 496.0KiB in use in bin. 496.0KiB client-requested in use in bin.\n",
      "2023-02-08 12:14:25.140692: I tensorflow/core/common_runtime/bfc_allocator.cc:998] Bin (131072): \tTotal Chunks: 9, Chunks in use: 9. 1.23MiB allocated for chunks. 1.23MiB in use in bin. 1.22MiB client-requested in use in bin.\n",
      "2023-02-08 12:14:25.140774: I tensorflow/core/common_runtime/bfc_allocator.cc:998] Bin (262144): \tTotal Chunks: 6, Chunks in use: 6. 1.75MiB allocated for chunks. 1.75MiB in use in bin. 1.69MiB client-requested in use in bin.\n",
      "2023-02-08 12:14:25.140788: I tensorflow/core/common_runtime/bfc_allocator.cc:998] Bin (524288): \tTotal Chunks: 9, Chunks in use: 9. 4.94MiB allocated for chunks. 4.94MiB in use in bin. 4.88MiB client-requested in use in bin.\n",
      "2023-02-08 12:14:25.140801: I tensorflow/core/common_runtime/bfc_allocator.cc:998] Bin (1048576): \tTotal Chunks: 6, Chunks in use: 6. 7.00MiB allocated for chunks. 7.00MiB in use in bin. 6.75MiB client-requested in use in bin.\n",
      "2023-02-08 12:14:25.140813: I tensorflow/core/common_runtime/bfc_allocator.cc:998] Bin (2097152): \tTotal Chunks: 9, Chunks in use: 9. 19.75MiB allocated for chunks. 19.75MiB in use in bin. 19.50MiB client-requested in use in bin.\n",
      "2023-02-08 12:14:25.140825: I tensorflow/core/common_runtime/bfc_allocator.cc:998] Bin (4194304): \tTotal Chunks: 6, Chunks in use: 6. 27.00MiB allocated for chunks. 27.00MiB in use in bin. 27.00MiB client-requested in use in bin.\n",
      "2023-02-08 12:14:25.140838: I tensorflow/core/common_runtime/bfc_allocator.cc:998] Bin (8388608): \tTotal Chunks: 3, Chunks in use: 3. 27.00MiB allocated for chunks. 27.00MiB in use in bin. 27.00MiB client-requested in use in bin.\n",
      "2023-02-08 12:14:25.140851: I tensorflow/core/common_runtime/bfc_allocator.cc:998] Bin (16777216): \tTotal Chunks: 0, Chunks in use: 0. 0B allocated for chunks. 0B in use in bin. 0B client-requested in use in bin.\n",
      "2023-02-08 12:14:25.140865: I tensorflow/core/common_runtime/bfc_allocator.cc:998] Bin (33554432): \tTotal Chunks: 0, Chunks in use: 0. 0B allocated for chunks. 0B in use in bin. 0B client-requested in use in bin.\n",
      "2023-02-08 12:14:25.140877: I tensorflow/core/common_runtime/bfc_allocator.cc:998] Bin (67108864): \tTotal Chunks: 0, Chunks in use: 0. 0B allocated for chunks. 0B in use in bin. 0B client-requested in use in bin.\n",
      "2023-02-08 12:14:25.140891: I tensorflow/core/common_runtime/bfc_allocator.cc:998] Bin (134217728): \tTotal Chunks: 3, Chunks in use: 3. 384.00MiB allocated for chunks. 384.00MiB in use in bin. 384.00MiB client-requested in use in bin.\n",
      "2023-02-08 12:14:25.140904: I tensorflow/core/common_runtime/bfc_allocator.cc:998] Bin (268435456): \tTotal Chunks: 27, Chunks in use: 25. 37.06GiB allocated for chunks. 33.00GiB in use in bin. 33.00GiB client-requested in use in bin.\n",
      "2023-02-08 12:14:25.140919: I tensorflow/core/common_runtime/bfc_allocator.cc:1014] Bin for 4.00GiB was 256.00MiB, Chunk State: \n",
      "2023-02-08 12:14:25.140941: I tensorflow/core/common_runtime/bfc_allocator.cc:1020]   Size: 2.00GiB | Requested Size: 2.00GiB | in_use: 0 | bin_num: 20, prev:   Size: 2.00GiB | Requested Size: 2.00GiB | in_use: 1 | bin_num: -1, for: model/concatenate_1/concat, stepid: 16785723140339654582, last_action: 93919338032189, next:   Size: 2.00GiB | Requested Size: 2.00GiB | in_use: 1 | bin_num: -1, for: model/conv2d_transpose_2/conv2d_transpose, stepid: 16785723140339654582, last_action: 93919338032217, for: UNUSED, stepid: 16785723140339654582, last_action: 93919338032220\n",
      "2023-02-08 12:14:25.140960: I tensorflow/core/common_runtime/bfc_allocator.cc:1020]   Size: 2.06GiB | Requested Size: 2.02GiB | in_use: 0 | bin_num: 20, prev:   Size: 2.00GiB | Requested Size: 2.00GiB | in_use: 1 | bin_num: -1, for: model/conv2d_transpose_2/conv2d_transpose, stepid: 16785723140339654582, last_action: 93919338032217, for: UNUSED, stepid: 16785723140339654582, last_action: 93919338032219\n",
      "2023-02-08 12:14:25.140974: I tensorflow/core/common_runtime/bfc_allocator.cc:1027] Next region of size 40291729408\n",
      "2023-02-08 12:14:25.140987: I tensorflow/core/common_runtime/bfc_allocator.cc:1046] InUse at 7f93ba000000 of size 1280 by op ScratchBuffer action_count 93919338031569 step 0 next 1\n",
      "2023-02-08 12:14:25.140999: I tensorflow/core/common_runtime/bfc_allocator.cc:1046] InUse at 7f93ba000500 of size 256 by op Fill action_count 93919338031577 step 0 next 7\n",
      "2023-02-08 12:14:25.141012: I tensorflow/core/common_runtime/bfc_allocator.cc:1046] InUse at 7f93ba000600 of size 256 by op Fill action_count 93919338031578 step 0 next 8\n",
      "2023-02-08 12:14:25.141024: I tensorflow/core/common_runtime/bfc_allocator.cc:1046] InUse at 7f93ba000700 of size 256 by op Mul action_count 93919338031580 step 0 next 10\n",
      "2023-02-08 12:14:25.141036: I tensorflow/core/common_runtime/bfc_allocator.cc:1046] InUse at 7f93ba000800 of size 256 by op Fill action_count 93919338031585 step 0 next 9\n",
      "2023-02-08 12:14:25.141047: I tensorflow/core/common_runtime/bfc_allocator.cc:1046] InUse at 7f93ba000900 of size 256 by op Fill action_count 93919338031591 step 0 next 2\n",
      "2023-02-08 12:14:25.141058: I tensorflow/core/common_runtime/bfc_allocator.cc:1046] InUse at 7f93ba000a00 of size 256 by op Mul action_count 93919338031571 step 0 next 3\n",
      "2023-02-08 12:14:25.141071: I tensorflow/core/common_runtime/bfc_allocator.cc:1046] InUse at 7f93ba000b00 of size 256 by op Mul action_count 93919338031593 step 0 next 16\n",
      "2023-02-08 12:14:25.141101: I tensorflow/core/common_runtime/bfc_allocator.cc:1046] InUse at 7f93ba000c00 of size 256 by op Fill action_count 93919338031598 step 0 next 15\n",
      "2023-02-08 12:14:25.141114: I tensorflow/core/common_runtime/bfc_allocator.cc:1046] InUse at 7f93ba000d00 of size 768 by op Fill action_count 93919338031604 step 0 next 4\n",
      "2023-02-08 12:14:25.141125: I tensorflow/core/common_runtime/bfc_allocator.cc:1046] InUse at 7f93ba001000 of size 256 by op Add action_count 93919338031573 step 0 next 5\n",
      "2023-02-08 12:14:25.141136: I tensorflow/core/common_runtime/bfc_allocator.cc:1046] InUse at 7f93ba001100 of size 1280 by op Add action_count 93919338031574 step 0 next 6\n",
      "2023-02-08 12:14:25.141147: I tensorflow/core/common_runtime/bfc_allocator.cc:1046] InUse at 7f93ba001600 of size 256 by op Mul action_count 93919338031606 step 0 next 22\n",
      "2023-02-08 12:14:25.141158: I tensorflow/core/common_runtime/bfc_allocator.cc:1046] InUse at 7f93ba001700 of size 512 by op Fill action_count 93919338031611 step 0 next 21\n",
      "2023-02-08 12:14:25.141170: I tensorflow/core/common_runtime/bfc_allocator.cc:1046] InUse at 7f93ba001900 of size 1024 by op Fill action_count 93919338031617 step 0 next 27\n",
      "2023-02-08 12:14:25.141181: I tensorflow/core/common_runtime/bfc_allocator.cc:1046] InUse at 7f93ba001d00 of size 256 by op Mul action_count 93919338031619 step 0 next 29\n",
      "2023-02-08 12:14:25.141192: I tensorflow/core/common_runtime/bfc_allocator.cc:1046] InUse at 7f93ba001e00 of size 1024 by op Fill action_count 93919338031624 step 0 next 28\n",
      "2023-02-08 12:14:25.141203: I tensorflow/core/common_runtime/bfc_allocator.cc:1046] InUse at 7f93ba002200 of size 2048 by op Fill action_count 93919338031630 step 0 next 34\n",
      "2023-02-08 12:14:25.141214: I tensorflow/core/common_runtime/bfc_allocator.cc:1046] InUse at 7f93ba002a00 of size 256 by op Mul action_count 93919338031632 step 0 next 36\n",
      "2023-02-08 12:14:25.141225: I tensorflow/core/common_runtime/bfc_allocator.cc:1046] InUse at 7f93ba002b00 of size 2048 by op Fill action_count 93919338031637 step 0 next 35\n",
      "2023-02-08 12:14:25.141236: I tensorflow/core/common_runtime/bfc_allocator.cc:1046] InUse at 7f93ba003300 of size 256 by op Sub action_count 93919338031639 step 0 next 40\n",
      "2023-02-08 12:14:25.141247: I tensorflow/core/common_runtime/bfc_allocator.cc:1046] InUse at 7f93ba003400 of size 256 by op Sub action_count 93919338031640 step 0 next 41\n",
      "2023-02-08 12:14:25.141257: I tensorflow/core/common_runtime/bfc_allocator.cc:1046] InUse at 7f93ba003500 of size 1024 by op Fill action_count 93919338031647 step 0 next 39\n",
      "2023-02-08 12:14:25.141268: I tensorflow/core/common_runtime/bfc_allocator.cc:1046] InUse at 7f93ba003900 of size 1024 by op Fill action_count 93919338031653 step 0 next 45\n",
      "2023-02-08 12:14:25.141279: I tensorflow/core/common_runtime/bfc_allocator.cc:1046] InUse at 7f93ba003d00 of size 1024 by op Fill action_count 93919338031659 step 0 next 47\n",
      "2023-02-08 12:14:25.141290: I tensorflow/core/common_runtime/bfc_allocator.cc:1046] InUse at 7f93ba004100 of size 256 by op Sub action_count 93919338031661 step 0 next 49\n",
      "2023-02-08 12:14:25.141302: I tensorflow/core/common_runtime/bfc_allocator.cc:1046] InUse at 7f93ba004200 of size 256 by op Sub action_count 93919338031662 step 0 next 50\n",
      "2023-02-08 12:14:25.141316: I tensorflow/core/common_runtime/bfc_allocator.cc:1046] InUse at 7f93ba004300 of size 512 by op Fill action_count 93919338031669 step 0 next 48\n",
      "2023-02-08 12:14:25.141329: I tensorflow/core/common_runtime/bfc_allocator.cc:1046] InUse at 7f93ba004500 of size 512 by op Fill action_count 93919338031675 step 0 next 53\n",
      "2023-02-08 12:14:25.141340: I tensorflow/core/common_runtime/bfc_allocator.cc:1046] InUse at 7f93ba004700 of size 512 by op Fill action_count 93919338031681 step 0 next 55\n",
      "2023-02-08 12:14:25.141355: I tensorflow/core/common_runtime/bfc_allocator.cc:1046] InUse at 7f93ba004900 of size 256 by op Sub action_count 93919338031683 step 0 next 57\n",
      "2023-02-08 12:14:25.141369: I tensorflow/core/common_runtime/bfc_allocator.cc:1046] InUse at 7f93ba004a00 of size 256 by op Sub action_count 93919338031684 step 0 next 58\n",
      "2023-02-08 12:14:25.141384: I tensorflow/core/common_runtime/bfc_allocator.cc:1046] InUse at 7f93ba004b00 of size 256 by op Fill action_count 93919338031691 step 0 next 56\n",
      "2023-02-08 12:14:25.141397: I tensorflow/core/common_runtime/bfc_allocator.cc:1046] InUse at 7f93ba004c00 of size 256 by op Fill action_count 93919338031697 step 0 next 61\n",
      "2023-02-08 12:14:25.141407: I tensorflow/core/common_runtime/bfc_allocator.cc:1046] InUse at 7f93ba004d00 of size 256 by op Fill action_count 93919338031703 step 0 next 63\n",
      "2023-02-08 12:14:25.141421: I tensorflow/core/common_runtime/bfc_allocator.cc:1046] InUse at 7f93ba004e00 of size 59392 by op Fill action_count 93919338031787 step 0 next 11\n",
      "2023-02-08 12:14:25.141435: I tensorflow/core/common_runtime/bfc_allocator.cc:1046] InUse at 7f93ba013600 of size 36864 by op Add action_count 93919338031582 step 0 next 12\n",
      "2023-02-08 12:14:25.141446: I tensorflow/core/common_runtime/bfc_allocator.cc:1046] InUse at 7f93ba01c600 of size 256 by op Sub action_count 93919338031705 step 0 next 64\n",
      "2023-02-08 12:14:25.141456: I tensorflow/core/common_runtime/bfc_allocator.cc:1046] InUse at 7f93ba01c700 of size 256 by op Sub action_count 93919338031706 step 0 next 65\n",
      "2023-02-08 12:14:25.141467: I tensorflow/core/common_runtime/bfc_allocator.cc:1046] InUse at 7f93ba01c800 of size 256 by op Fill action_count 93919338031713 step 0 next 66\n",
      "2023-02-08 12:14:25.141478: I tensorflow/core/common_runtime/bfc_allocator.cc:1046] InUse at 7f93ba01c900 of size 256 by op Fill action_count 93919338031719 step 0 next 68\n",
      "2023-02-08 12:14:25.141489: I tensorflow/core/common_runtime/bfc_allocator.cc:1046] InUse at 7f93ba01ca00 of size 256 by op Fill action_count 93919338031725 step 0 next 71\n",
      "2023-02-08 12:14:25.141500: I tensorflow/core/common_runtime/bfc_allocator.cc:1046] InUse at 7f93ba01cb00 of size 256 by op Fill action_count 93919338031735 step 0 next 72\n",
      "2023-02-08 12:14:25.141511: I tensorflow/core/common_runtime/bfc_allocator.cc:1046] InUse at 7f93ba01cc00 of size 256 by op Sub action_count 93919338031727 step 0 next 73\n",
      "2023-02-08 12:14:25.141521: I tensorflow/core/common_runtime/bfc_allocator.cc:1046] InUse at 7f93ba01cd00 of size 256 by op Sub action_count 93919338031728 step 0 next 74\n",
      "2023-02-08 12:14:25.141532: I tensorflow/core/common_runtime/bfc_allocator.cc:1046] InUse at 7f93ba01ce00 of size 256 by op Add action_count 93919338031732 step 0 next 75\n",
      "2023-02-08 12:14:25.141543: I tensorflow/core/common_runtime/bfc_allocator.cc:1046] InUse at 7f93ba01cf00 of size 256 by op AssignVariableOp action_count 93919338031736 step 0 next 76\n",
      "2023-02-08 12:14:25.141554: I tensorflow/core/common_runtime/bfc_allocator.cc:1046] InUse at 7f93ba01d000 of size 256 by op AssignVariableOp action_count 93919338031737 step 0 next 77\n",
      "2023-02-08 12:14:25.141565: I tensorflow/core/common_runtime/bfc_allocator.cc:1046] InUse at 7f93ba01d100 of size 256 by op AssignVariableOp action_count 93919338031738 step 0 next 78\n",
      "2023-02-08 12:14:25.141578: I tensorflow/core/common_runtime/bfc_allocator.cc:1046] InUse at 7f93ba01d200 of size 256 by op AssignVariableOp action_count 93919338031739 step 0 next 79\n",
      "2023-02-08 12:14:25.141589: I tensorflow/core/common_runtime/bfc_allocator.cc:1046] InUse at 7f93ba01d300 of size 256 by op Fill action_count 93919338031740 step 0 next 80\n",
      "2023-02-08 12:14:25.141600: I tensorflow/core/common_runtime/bfc_allocator.cc:1046] InUse at 7f93ba01d400 of size 256 by op Fill action_count 93919338031741 step 0 next 81\n",
      "2023-02-08 12:14:25.141611: I tensorflow/core/common_runtime/bfc_allocator.cc:1046] InUse at 7f93ba01d500 of size 256 by op AssignVariableOp action_count 93919338031742 step 0 next 82\n",
      "2023-02-08 12:14:25.141622: I tensorflow/core/common_runtime/bfc_allocator.cc:1046] InUse at 7f93ba01d600 of size 256 by op Fill action_count 93919338031743 step 0 next 83\n",
      "2023-02-08 12:14:25.141637: I tensorflow/core/common_runtime/bfc_allocator.cc:1046] InUse at 7f93ba01d700 of size 256 by op AssignVariableOp action_count 93919338031744 step 0 next 84\n",
      "2023-02-08 12:14:25.141650: I tensorflow/core/common_runtime/bfc_allocator.cc:1046] InUse at 7f93ba01d800 of size 256 by op AssignVariableOp action_count 93919338031745 step 0 next 85\n",
      "2023-02-08 12:14:25.141661: I tensorflow/core/common_runtime/bfc_allocator.cc:1046] InUse at 7f93ba01d900 of size 256 by op AssignVariableOp action_count 93919338031746 step 0 next 86\n",
      "2023-02-08 12:14:25.141672: I tensorflow/core/common_runtime/bfc_allocator.cc:1046] InUse at 7f93ba01da00 of size 256 by op AssignVariableOp action_count 93919338031747 step 0 next 87\n",
      "2023-02-08 12:14:25.141682: I tensorflow/core/common_runtime/bfc_allocator.cc:1046] InUse at 7f93ba01db00 of size 256 by op Fill action_count 93919338031748 step 0 next 88\n",
      "2023-02-08 12:14:25.141693: I tensorflow/core/common_runtime/bfc_allocator.cc:1046] InUse at 7f93ba01dc00 of size 1280 by op Fill action_count 93919338031749 step 0 next 89\n",
      "2023-02-08 12:14:25.141704: I tensorflow/core/common_runtime/bfc_allocator.cc:1046] InUse at 7f93ba01e100 of size 256 by op Fill action_count 93919338031750 step 0 next 90\n",
      "2023-02-08 12:14:25.141715: I tensorflow/core/common_runtime/bfc_allocator.cc:1046] InUse at 7f93ba01e200 of size 256 by op Fill action_count 93919338031752 step 0 next 91\n",
      "2023-02-08 12:14:25.141726: I tensorflow/core/common_runtime/bfc_allocator.cc:1046] InUse at 7f93ba01e300 of size 256 by op Fill action_count 93919338031754 step 0 next 93\n",
      "2023-02-08 12:14:25.141737: I tensorflow/core/common_runtime/bfc_allocator.cc:1046] InUse at 7f93ba01e400 of size 256 by op Fill action_count 93919338031756 step 0 next 95\n",
      "2023-02-08 12:14:25.141747: I tensorflow/core/common_runtime/bfc_allocator.cc:1046] InUse at 7f93ba01e500 of size 512 by op Fill action_count 93919338031758 step 0 next 97\n",
      "2023-02-08 12:14:25.141758: I tensorflow/core/common_runtime/bfc_allocator.cc:1046] InUse at 7f93ba01e700 of size 512 by op Fill action_count 93919338031760 step 0 next 99\n",
      "2023-02-08 12:14:25.141769: I tensorflow/core/common_runtime/bfc_allocator.cc:1046] InUse at 7f93ba01e900 of size 1024 by op Fill action_count 93919338031762 step 0 next 101\n",
      "2023-02-08 12:14:25.141780: I tensorflow/core/common_runtime/bfc_allocator.cc:1046] InUse at 7f93ba01ed00 of size 1024 by op Fill action_count 93919338031764 step 0 next 103\n",
      "2023-02-08 12:14:25.141791: I tensorflow/core/common_runtime/bfc_allocator.cc:1046] InUse at 7f93ba01f100 of size 2048 by op Fill action_count 93919338031766 step 0 next 105\n",
      "2023-02-08 12:14:25.141801: I tensorflow/core/common_runtime/bfc_allocator.cc:1046] InUse at 7f93ba01f900 of size 2048 by op Fill action_count 93919338031768 step 0 next 107\n",
      "2023-02-08 12:14:25.141812: I tensorflow/core/common_runtime/bfc_allocator.cc:1046] InUse at 7f93ba020100 of size 1024 by op Fill action_count 93919338031770 step 0 next 108\n",
      "2023-02-08 12:14:25.141823: I tensorflow/core/common_runtime/bfc_allocator.cc:1046] InUse at 7f93ba020500 of size 1024 by op Fill action_count 93919338031772 step 0 next 109\n",
      "2023-02-08 12:14:25.141834: I tensorflow/core/common_runtime/bfc_allocator.cc:1046] InUse at 7f93ba020900 of size 1024 by op Fill action_count 93919338031774 step 0 next 111\n",
      "2023-02-08 12:14:25.141845: I tensorflow/core/common_runtime/bfc_allocator.cc:1046] InUse at 7f93ba020d00 of size 512 by op Fill action_count 93919338031776 step 0 next 112\n",
      "2023-02-08 12:14:25.141860: I tensorflow/core/common_runtime/bfc_allocator.cc:1046] InUse at 7f93ba020f00 of size 512 by op Fill action_count 93919338031778 step 0 next 113\n",
      "2023-02-08 12:14:25.141871: I tensorflow/core/common_runtime/bfc_allocator.cc:1046] InUse at 7f93ba021100 of size 512 by op Fill action_count 93919338031780 step 0 next 115\n",
      "2023-02-08 12:14:25.141881: I tensorflow/core/common_runtime/bfc_allocator.cc:1046] InUse at 7f93ba021300 of size 256 by op Fill action_count 93919338031782 step 0 next 116\n",
      "2023-02-08 12:14:25.141892: I tensorflow/core/common_runtime/bfc_allocator.cc:1046] InUse at 7f93ba021400 of size 256 by op Fill action_count 93919338031784 step 0 next 117\n",
      "2023-02-08 12:14:25.141903: I tensorflow/core/common_runtime/bfc_allocator.cc:1046] InUse at 7f93ba021500 of size 256 by op Fill action_count 93919338031786 step 0 next 119\n",
      "2023-02-08 12:14:25.141913: I tensorflow/core/common_runtime/bfc_allocator.cc:1046] InUse at 7f93ba021600 of size 256 by op Fill action_count 93919338031788 step 0 next 120\n",
      "2023-02-08 12:14:25.141924: I tensorflow/core/common_runtime/bfc_allocator.cc:1046] InUse at 7f93ba021700 of size 256 by op Fill action_count 93919338031790 step 0 next 121\n",
      "2023-02-08 12:14:25.141935: I tensorflow/core/common_runtime/bfc_allocator.cc:1046] InUse at 7f93ba021800 of size 256 by op Fill action_count 93919338031792 step 0 next 123\n",
      "2023-02-08 12:14:25.141946: I tensorflow/core/common_runtime/bfc_allocator.cc:1046] InUse at 7f93ba021900 of size 256 by op Fill action_count 93919338031793 step 0 next 124\n",
      "2023-02-08 12:14:25.141957: I tensorflow/core/common_runtime/bfc_allocator.cc:1046] InUse at 7f93ba021a00 of size 256 by op Fill action_count 93919338031794 step 0 next 125\n",
      "2023-02-08 12:14:25.141969: I tensorflow/core/common_runtime/bfc_allocator.cc:1046] InUse at 7f93ba021b00 of size 1280 by op Fill action_count 93919338031795 step 0 next 126\n",
      "2023-02-08 12:14:25.141979: I tensorflow/core/common_runtime/bfc_allocator.cc:1046] InUse at 7f93ba022000 of size 256 by op Fill action_count 93919338031796 step 0 next 127\n",
      "2023-02-08 12:14:25.141990: I tensorflow/core/common_runtime/bfc_allocator.cc:1046] InUse at 7f93ba022100 of size 256 by op Fill action_count 93919338031798 step 0 next 129\n",
      "2023-02-08 12:14:25.142001: I tensorflow/core/common_runtime/bfc_allocator.cc:1046] InUse at 7f93ba022200 of size 256 by op Fill action_count 93919338031800 step 0 next 131\n",
      "2023-02-08 12:14:25.142012: I tensorflow/core/common_runtime/bfc_allocator.cc:1046] InUse at 7f93ba022300 of size 256 by op Fill action_count 93919338031802 step 0 next 133\n",
      "2023-02-08 12:14:25.142022: I tensorflow/core/common_runtime/bfc_allocator.cc:1046] InUse at 7f93ba022400 of size 512 by op Fill action_count 93919338031804 step 0 next 135\n",
      "2023-02-08 12:14:25.142033: I tensorflow/core/common_runtime/bfc_allocator.cc:1046] InUse at 7f93ba022600 of size 512 by op Fill action_count 93919338031806 step 0 next 137\n",
      "2023-02-08 12:14:25.142044: I tensorflow/core/common_runtime/bfc_allocator.cc:1046] InUse at 7f93ba022800 of size 1024 by op Fill action_count 93919338031808 step 0 next 139\n",
      "2023-02-08 12:14:25.142057: I tensorflow/core/common_runtime/bfc_allocator.cc:1046] InUse at 7f93ba022c00 of size 1024 by op Fill action_count 93919338031810 step 0 next 141\n",
      "2023-02-08 12:14:25.142068: I tensorflow/core/common_runtime/bfc_allocator.cc:1046] InUse at 7f93ba023000 of size 2048 by op Fill action_count 93919338031812 step 0 next 143\n",
      "2023-02-08 12:14:25.142079: I tensorflow/core/common_runtime/bfc_allocator.cc:1046] InUse at 7f93ba023800 of size 2048 by op Fill action_count 93919338031814 step 0 next 145\n",
      "2023-02-08 12:14:25.142089: I tensorflow/core/common_runtime/bfc_allocator.cc:1046] InUse at 7f93ba024000 of size 1024 by op Fill action_count 93919338031816 step 0 next 147\n",
      "2023-02-08 12:14:25.142100: I tensorflow/core/common_runtime/bfc_allocator.cc:1046] InUse at 7f93ba024400 of size 1280 by op Fill action_count 93919338031818 step 0 next 67\n",
      "2023-02-08 12:14:25.142111: I tensorflow/core/common_runtime/bfc_allocator.cc:1046] InUse at 7f93ba024900 of size 40192 by op Add action_count 93919338031710 step 0 next 13\n",
      "2023-02-08 12:14:25.142122: I tensorflow/core/common_runtime/bfc_allocator.cc:1046] InUse at 7f93ba02e600 of size 73728 by op Add action_count 93919338031588 step 0 next 14\n",
      "2023-02-08 12:14:25.142132: I tensorflow/core/common_runtime/bfc_allocator.cc:1046] InUse at 7f93ba040600 of size 73728 by op Fill action_count 93919338031753 step 0 next 92\n",
      "2023-02-08 12:14:25.142143: I tensorflow/core/common_runtime/bfc_allocator.cc:1046] InUse at 7f93ba052600 of size 73728 by op Fill action_count 93919338031789 step 0 next 62\n",
      "2023-02-08 12:14:25.142154: I tensorflow/core/common_runtime/bfc_allocator.cc:1046] InUse at 7f93ba064600 of size 147456 by op Add action_count 93919338031700 step 0 next 17\n",
      "2023-02-08 12:14:25.142165: I tensorflow/core/common_runtime/bfc_allocator.cc:1046] InUse at 7f93ba088600 of size 147456 by op Add action_count 93919338031595 step 0 next 18\n",
      "2023-02-08 12:14:25.142176: I tensorflow/core/common_runtime/bfc_allocator.cc:1046] InUse at 7f93ba0ac600 of size 131072 by op Add action_count 93919338031688 step 0 next 59\n",
      "2023-02-08 12:14:25.142187: I tensorflow/core/common_runtime/bfc_allocator.cc:1046] InUse at 7f93ba0cc600 of size 73728 by op Add action_count 93919338031716 step 0 next 69\n",
      "2023-02-08 12:14:25.142197: I tensorflow/core/common_runtime/bfc_allocator.cc:1046] InUse at 7f93ba0de600 of size 36864 by op Fill action_count 93919338031751 step 0 next 70\n",
      "2023-02-08 12:14:25.142208: I tensorflow/core/common_runtime/bfc_allocator.cc:1046] InUse at 7f93ba0e7600 of size 53248 by op Add action_count 93919338031722 step 0 next 19\n",
      "2023-02-08 12:14:25.142219: I tensorflow/core/common_runtime/bfc_allocator.cc:1046] InUse at 7f93ba0f4600 of size 294912 by op Add action_count 93919338031601 step 0 next 20\n",
      "2023-02-08 12:14:25.142230: I tensorflow/core/common_runtime/bfc_allocator.cc:1046] InUse at 7f93ba13c600 of size 147456 by op Fill action_count 93919338031755 step 0 next 94\n",
      "2023-02-08 12:14:25.142241: I tensorflow/core/common_runtime/bfc_allocator.cc:1046] InUse at 7f93ba160600 of size 147456 by op Fill action_count 93919338031781 step 0 next 60\n",
      "2023-02-08 12:14:25.142253: I tensorflow/core/common_runtime/bfc_allocator.cc:1046] InUse at 7f93ba184600 of size 294912 by op Add action_count 93919338031694 step 0 next 54\n",
      "2023-02-08 12:14:25.142264: I tensorflow/core/common_runtime/bfc_allocator.cc:1046] InUse at 7f93ba1cc600 of size 589824 by op Add action_count 93919338031678 step 0 next 23\n",
      "2023-02-08 12:14:25.142275: I tensorflow/core/common_runtime/bfc_allocator.cc:1046] InUse at 7f93ba25c600 of size 589824 by op Add action_count 93919338031608 step 0 next 24\n",
      "2023-02-08 12:14:25.142287: I tensorflow/core/common_runtime/bfc_allocator.cc:1046] InUse at 7f93ba2ec600 of size 524288 by op Add action_count 93919338031666 step 0 next 51\n",
      "2023-02-08 12:14:25.142297: I tensorflow/core/common_runtime/bfc_allocator.cc:1046] InUse at 7f93ba36c600 of size 294912 by op Fill action_count 93919338031757 step 0 next 96\n",
      "2023-02-08 12:14:25.142308: I tensorflow/core/common_runtime/bfc_allocator.cc:1046] InUse at 7f93ba3b4600 of size 360448 by op Fill action_count 93919338031783 step 0 next 25\n",
      "2023-02-08 12:14:25.142319: I tensorflow/core/common_runtime/bfc_allocator.cc:1046] InUse at 7f93ba40c600 of size 1179648 by op Add action_count 93919338031614 step 0 next 26\n",
      "2023-02-08 12:14:25.142330: I tensorflow/core/common_runtime/bfc_allocator.cc:1046] InUse at 7f93ba52c600 of size 589824 by op Fill action_count 93919338031759 step 0 next 98\n",
      "2023-02-08 12:14:25.142340: I tensorflow/core/common_runtime/bfc_allocator.cc:1046] InUse at 7f93ba5bc600 of size 589824 by op Fill action_count 93919338031775 step 0 next 52\n",
      "2023-02-08 12:14:25.142351: I tensorflow/core/common_runtime/bfc_allocator.cc:1046] InUse at 7f93ba64c600 of size 1179648 by op Add action_count 93919338031672 step 0 next 46\n",
      "2023-02-08 12:14:25.142362: I tensorflow/core/common_runtime/bfc_allocator.cc:1046] InUse at 7f93ba76c600 of size 2359296 by op Add action_count 93919338031656 step 0 next 30\n",
      "2023-02-08 12:14:25.142373: I tensorflow/core/common_runtime/bfc_allocator.cc:1046] InUse at 7f93ba9ac600 of size 2359296 by op Add action_count 93919338031621 step 0 next 31\n",
      "2023-02-08 12:14:25.142384: I tensorflow/core/common_runtime/bfc_allocator.cc:1046] InUse at 7f93babec600 of size 2097152 by op Add action_count 93919338031644 step 0 next 42\n",
      "2023-02-08 12:14:25.142395: I tensorflow/core/common_runtime/bfc_allocator.cc:1046] InUse at 7f93badec600 of size 1179648 by op Fill action_count 93919338031761 step 0 next 100\n",
      "2023-02-08 12:14:25.142406: I tensorflow/core/common_runtime/bfc_allocator.cc:1046] InUse at 7f93baf0c600 of size 1441792 by op Fill action_count 93919338031777 step 0 next 32\n",
      "2023-02-08 12:14:25.142417: I tensorflow/core/common_runtime/bfc_allocator.cc:1046] InUse at 7f93bb06c600 of size 4718592 by op Add action_count 93919338031627 step 0 next 33\n",
      "2023-02-08 12:14:25.142428: I tensorflow/core/common_runtime/bfc_allocator.cc:1046] InUse at 7f93bb4ec600 of size 2359296 by op Fill action_count 93919338031763 step 0 next 102\n",
      "2023-02-08 12:14:25.142443: I tensorflow/core/common_runtime/bfc_allocator.cc:1046] InUse at 7f93bb72c600 of size 2359296 by op Fill action_count 93919338031769 step 0 next 43\n",
      "2023-02-08 12:14:25.142454: I tensorflow/core/common_runtime/bfc_allocator.cc:1046] InUse at 7f93bb96c600 of size 4718592 by op Add action_count 93919338031650 step 0 next 44\n",
      "2023-02-08 12:14:25.142465: I tensorflow/core/common_runtime/bfc_allocator.cc:1046] InUse at 7f93bbdec600 of size 4718592 by op Fill action_count 93919338031765 step 0 next 104\n",
      "2023-02-08 12:14:25.142476: I tensorflow/core/common_runtime/bfc_allocator.cc:1046] InUse at 7f93bc26c600 of size 4718592 by op Fill action_count 93919338031771 step 0 next 37\n",
      "2023-02-08 12:14:25.142487: I tensorflow/core/common_runtime/bfc_allocator.cc:1046] InUse at 7f93bc6ec600 of size 9437184 by op Add action_count 93919338031634 step 0 next 38\n",
      "2023-02-08 12:14:25.142498: I tensorflow/core/common_runtime/bfc_allocator.cc:1046] InUse at 7f93bcfec600 of size 9437184 by op Fill action_count 93919338031767 step 0 next 106\n",
      "2023-02-08 12:14:25.142508: I tensorflow/core/common_runtime/bfc_allocator.cc:1046] InUse at 7f93bd8ec600 of size 2359296 by op Fill action_count 93919338031773 step 0 next 110\n",
      "2023-02-08 12:14:25.142519: I tensorflow/core/common_runtime/bfc_allocator.cc:1046] InUse at 7f93bdb2c600 of size 589824 by op Fill action_count 93919338031779 step 0 next 114\n",
      "2023-02-08 12:14:25.142530: I tensorflow/core/common_runtime/bfc_allocator.cc:1046] InUse at 7f93bdbbc600 of size 147456 by op Fill action_count 93919338031785 step 0 next 118\n",
      "2023-02-08 12:14:25.142541: I tensorflow/core/common_runtime/bfc_allocator.cc:1046] InUse at 7f93bdbe0600 of size 36864 by op Fill action_count 93919338031791 step 0 next 122\n",
      "2023-02-08 12:14:25.142551: I tensorflow/core/common_runtime/bfc_allocator.cc:1046] InUse at 7f93bdbe9600 of size 36864 by op Fill action_count 93919338031797 step 0 next 128\n",
      "2023-02-08 12:14:25.142564: I tensorflow/core/common_runtime/bfc_allocator.cc:1046] InUse at 7f93bdbf2600 of size 73728 by op Fill action_count 93919338031799 step 0 next 130\n",
      "2023-02-08 12:14:25.142575: I tensorflow/core/common_runtime/bfc_allocator.cc:1046] InUse at 7f93bdc04600 of size 147456 by op Fill action_count 93919338031801 step 0 next 132\n",
      "2023-02-08 12:14:25.142585: I tensorflow/core/common_runtime/bfc_allocator.cc:1046] InUse at 7f93bdc28600 of size 294912 by op Fill action_count 93919338031803 step 0 next 134\n",
      "2023-02-08 12:14:25.142596: I tensorflow/core/common_runtime/bfc_allocator.cc:1046] InUse at 7f93bdc70600 of size 589824 by op Fill action_count 93919338031805 step 0 next 136\n",
      "2023-02-08 12:14:25.142607: I tensorflow/core/common_runtime/bfc_allocator.cc:1046] InUse at 7f93bdd00600 of size 1179648 by op Fill action_count 93919338031807 step 0 next 138\n",
      "2023-02-08 12:14:25.142618: I tensorflow/core/common_runtime/bfc_allocator.cc:1046] InUse at 7f93bde20600 of size 2359296 by op Fill action_count 93919338031809 step 0 next 140\n",
      "2023-02-08 12:14:25.142628: I tensorflow/core/common_runtime/bfc_allocator.cc:1046] InUse at 7f93be060600 of size 4718592 by op Fill action_count 93919338031811 step 0 next 142\n",
      "2023-02-08 12:14:25.142639: I tensorflow/core/common_runtime/bfc_allocator.cc:1046] InUse at 7f93be4e0600 of size 9437184 by op Fill action_count 93919338031813 step 0 next 144\n",
      "2023-02-08 12:14:25.142650: I tensorflow/core/common_runtime/bfc_allocator.cc:1046] InUse at 7f93bede0600 of size 2097152 by op Fill action_count 93919338031815 step 0 next 146\n",
      "2023-02-08 12:14:25.142661: I tensorflow/core/common_runtime/bfc_allocator.cc:1046] InUse at 7f93befe0600 of size 4718592 by op Fill action_count 93919338031817 step 0 next 148\n",
      "2023-02-08 12:14:25.142673: I tensorflow/core/common_runtime/bfc_allocator.cc:1046] InUse at 7f93bf460600 of size 2359296 by op Fill action_count 93919338031819 step 0 next 149\n",
      "2023-02-08 12:14:25.142684: I tensorflow/core/common_runtime/bfc_allocator.cc:1046] InUse at 7f93bf6a0600 of size 1024 by op Fill action_count 93919338031820 step 0 next 150\n",
      "2023-02-08 12:14:25.142695: I tensorflow/core/common_runtime/bfc_allocator.cc:1046] InUse at 7f93bf6a0a00 of size 524288 by op Fill action_count 93919338031821 step 0 next 151\n",
      "2023-02-08 12:14:25.142705: I tensorflow/core/common_runtime/bfc_allocator.cc:1046] InUse at 7f93bf720a00 of size 512 by op Fill action_count 93919338031822 step 0 next 152\n",
      "2023-02-08 12:14:25.142716: I tensorflow/core/common_runtime/bfc_allocator.cc:1046] InUse at 7f93bf720c00 of size 1179648 by op Fill action_count 93919338031823 step 0 next 153\n",
      "2023-02-08 12:14:25.142727: I tensorflow/core/common_runtime/bfc_allocator.cc:1046] InUse at 7f93bf840c00 of size 512 by op Fill action_count 93919338031824 step 0 next 154\n",
      "2023-02-08 12:14:25.142737: I tensorflow/core/common_runtime/bfc_allocator.cc:1046] InUse at 7f93bf840e00 of size 589824 by op Fill action_count 93919338031825 step 0 next 155\n",
      "2023-02-08 12:14:25.142748: I tensorflow/core/common_runtime/bfc_allocator.cc:1046] InUse at 7f93bf8d0e00 of size 512 by op Fill action_count 93919338031826 step 0 next 156\n",
      "2023-02-08 12:14:25.142758: I tensorflow/core/common_runtime/bfc_allocator.cc:1046] InUse at 7f93bf8d1000 of size 131072 by op Fill action_count 93919338031827 step 0 next 157\n",
      "2023-02-08 12:14:25.142769: I tensorflow/core/common_runtime/bfc_allocator.cc:1046] InUse at 7f93bf8f1000 of size 256 by op Fill action_count 93919338031828 step 0 next 158\n",
      "2023-02-08 12:14:25.142780: I tensorflow/core/common_runtime/bfc_allocator.cc:1046] InUse at 7f93bf8f1100 of size 294912 by op Fill action_count 93919338031829 step 0 next 159\n",
      "2023-02-08 12:14:25.142790: I tensorflow/core/common_runtime/bfc_allocator.cc:1046] InUse at 7f93bf939100 of size 256 by op Fill action_count 93919338031830 step 0 next 160\n",
      "2023-02-08 12:14:25.142801: I tensorflow/core/common_runtime/bfc_allocator.cc:1046] InUse at 7f93bf939200 of size 147456 by op Fill action_count 93919338031831 step 0 next 161\n",
      "2023-02-08 12:14:25.142811: I tensorflow/core/common_runtime/bfc_allocator.cc:1046] InUse at 7f93bf95d200 of size 256 by op Fill action_count 93919338031832 step 0 next 162\n",
      "2023-02-08 12:14:25.142822: I tensorflow/core/common_runtime/bfc_allocator.cc:1046] InUse at 7f93bf95d300 of size 32768 by op Fill action_count 93919338031833 step 0 next 163\n",
      "2023-02-08 12:14:25.142833: I tensorflow/core/common_runtime/bfc_allocator.cc:1046] InUse at 7f93bf965300 of size 256 by op Fill action_count 93919338031834 step 0 next 164\n",
      "2023-02-08 12:14:25.142844: I tensorflow/core/common_runtime/bfc_allocator.cc:1046] InUse at 7f93bf965400 of size 73728 by op Fill action_count 93919338031835 step 0 next 165\n",
      "2023-02-08 12:14:25.142854: I tensorflow/core/common_runtime/bfc_allocator.cc:1046] InUse at 7f93bf977400 of size 256 by op Fill action_count 93919338031836 step 0 next 166\n",
      "2023-02-08 12:14:25.142865: I tensorflow/core/common_runtime/bfc_allocator.cc:1046] InUse at 7f93bf977500 of size 36864 by op Fill action_count 93919338031837 step 0 next 167\n",
      "2023-02-08 12:14:25.142875: I tensorflow/core/common_runtime/bfc_allocator.cc:1046] InUse at 7f93bf980500 of size 256 by op Fill action_count 93919338031838 step 0 next 168\n",
      "2023-02-08 12:14:25.142886: I tensorflow/core/common_runtime/bfc_allocator.cc:1046] InUse at 7f93bf980600 of size 256 by op Fill action_count 93919338031839 step 0 next 169\n",
      "2023-02-08 12:14:25.142897: I tensorflow/core/common_runtime/bfc_allocator.cc:1046] InUse at 7f93bf980700 of size 256 by op Fill action_count 93919338031840 step 0 next 170\n",
      "2023-02-08 12:14:25.142907: I tensorflow/core/common_runtime/bfc_allocator.cc:1046] InUse at 7f93bf980800 of size 256 by op Fill action_count 93919338031841 step 0 next 171\n",
      "2023-02-08 12:14:25.142918: I tensorflow/core/common_runtime/bfc_allocator.cc:1046] InUse at 7f93bf980900 of size 256 by op Fill action_count 93919338031842 step 0 next 172\n",
      "2023-02-08 12:14:25.142931: I tensorflow/core/common_runtime/bfc_allocator.cc:1046] InUse at 7f93bf980a00 of size 256 by op Fill action_count 93919338031843 step 0 next 173\n",
      "2023-02-08 12:14:25.142941: I tensorflow/core/common_runtime/bfc_allocator.cc:1046] InUse at 7f93bf980b00 of size 256 by op Fill action_count 93919338031844 step 0 next 174\n",
      "2023-02-08 12:14:25.142953: I tensorflow/core/common_runtime/bfc_allocator.cc:1046] InUse at 7f93bf980c00 of size 256 by op Adam/add/y action_count 93919338031845 step 0 next 175\n",
      "2023-02-08 12:14:25.142965: I tensorflow/core/common_runtime/bfc_allocator.cc:1046] InUse at 7f93bf980d00 of size 256 by op Adam/Const action_count 93919338031846 step 0 next 176\n",
      "2023-02-08 12:14:25.142977: I tensorflow/core/common_runtime/bfc_allocator.cc:1046] InUse at 7f93bf980e00 of size 256 by op Cast_1 action_count 93919338031847 step 0 next 177\n",
      "2023-02-08 12:14:25.142989: I tensorflow/core/common_runtime/bfc_allocator.cc:1046] InUse at 7f93bf980f00 of size 256 by op Const_3 action_count 93919338031848 step 0 next 178\n",
      "2023-02-08 12:14:25.143001: I tensorflow/core/common_runtime/bfc_allocator.cc:1046] InUse at 7f93bf981000 of size 256 by op model/spatial_dropout2d_4/dropout/Const action_count 93919338031849 step 0 next 179\n",
      "2023-02-08 12:14:25.143013: I tensorflow/core/common_runtime/bfc_allocator.cc:1046] InUse at 7f93bf981100 of size 256 by op Const_7 action_count 93919338031850 step 0 next 180\n",
      "2023-02-08 12:14:25.143026: I tensorflow/core/common_runtime/bfc_allocator.cc:1046] InUse at 7f93bf981200 of size 256 by op gradient_tape/binary_crossentropy/logistic_loss/add/x action_count 93919338031851 step 0 next 181\n",
      "2023-02-08 12:14:25.143039: I tensorflow/core/common_runtime/bfc_allocator.cc:1046] InUse at 7f93bf981300 of size 256 by op Adam/Adam/Const action_count 93919338031852 step 0 next 182\n",
      "2023-02-08 12:14:25.143052: I tensorflow/core/common_runtime/bfc_allocator.cc:1046] InUse at 7f93bf981400 of size 256 by op SameWorkerRecvDone action_count 93919338031853 step 0 next 183\n",
      "2023-02-08 12:14:25.143064: I tensorflow/core/common_runtime/bfc_allocator.cc:1046] InUse at 7f93bf981500 of size 256 by op Adam/Pow action_count 93919338031857 step 16785723140339654582 next 184\n",
      "2023-02-08 12:14:25.143076: I tensorflow/core/common_runtime/bfc_allocator.cc:1046] InUse at 7f93bf981600 of size 256 by op Adam/Cast_1 action_count 93919338031855 step 16785723140339654582 next 185\n",
      "2023-02-08 12:14:25.143089: I tensorflow/core/common_runtime/bfc_allocator.cc:1046] InUse at 7f93bf981700 of size 134217728 by op SameWorkerRecvDone action_count 93919338031858 step 0 next 186\n",
      "2023-02-08 12:14:25.143100: I tensorflow/core/common_runtime/bfc_allocator.cc:1046] InUse at 7f93c7981700 of size 134217728 by op SameWorkerRecvDone action_count 93919338031859 step 0 next 187\n",
      "2023-02-08 12:14:25.143111: I tensorflow/core/common_runtime/bfc_allocator.cc:1046] InUse at 7f93cf981700 of size 256 by op SameWorkerRecvDone action_count 93919338031860 step 0 next 188\n",
      "2023-02-08 12:14:25.143122: I tensorflow/core/common_runtime/bfc_allocator.cc:1046] InUse at 7f93cf981800 of size 4294967296 by op model/conv2d/Conv2D action_count 93919338031861 step 16785723140339654582 next 189\n",
      "2023-02-08 12:14:25.143137: I tensorflow/core/common_runtime/bfc_allocator.cc:1046] InUse at 7f94cf981800 of size 4294967296 by op model/spatial_dropout2d/dropout/Mul action_count 93919338031884 step 16785723140339654582 next 190\n",
      "2023-02-08 12:14:25.143149: I tensorflow/core/common_runtime/bfc_allocator.cc:1046] InUse at 7f95cf981800 of size 4096 by op model/spatial_dropout2d/dropout/ArithmeticOptimizer/ReorderCastLikeAndValuePreserving_float_Cast action_count 93919338031890 step 16785723140339654582 next 191\n",
      "2023-02-08 12:14:25.143163: I tensorflow/core/common_runtime/bfc_allocator.cc:1046] InUse at 7f95cf982800 of size 4294967296 by op model/conv2d_1/Relu action_count 93919338031892 step 16785723140339654582 next 192\n",
      "2023-02-08 12:14:25.143175: I tensorflow/core/common_runtime/bfc_allocator.cc:1046] InUse at 7f96cf982800 of size 1073741824 by op model/max_pooling2d/MaxPool action_count 93919338031909 step 16785723140339654582 next 193\n",
      "2023-02-08 12:14:25.143187: I tensorflow/core/common_runtime/bfc_allocator.cc:1046] InUse at 7f970f982800 of size 2147483648 by op model/conv2d_2/Relu action_count 93919338031910 step 16785723140339654582 next 194\n",
      "2023-02-08 12:14:25.143199: I tensorflow/core/common_runtime/bfc_allocator.cc:1046] InUse at 7f978f982800 of size 2147483648 by op model/spatial_dropout2d_1/dropout/Mul action_count 93919338031929 step 16785723140339654582 next 195\n",
      "2023-02-08 12:14:25.143214: I tensorflow/core/common_runtime/bfc_allocator.cc:1046] InUse at 7f980f982800 of size 8192 by op model/spatial_dropout2d_1/dropout/ArithmeticOptimizer/ReorderCastLikeAndValuePreserving_float_Cast action_count 93919338031935 step 16785723140339654582 next 196\n",
      "2023-02-08 12:14:25.143227: I tensorflow/core/common_runtime/bfc_allocator.cc:1046] InUse at 7f980f984800 of size 2147483648 by op model/conv2d_3/Relu action_count 93919338031937 step 16785723140339654582 next 197\n",
      "2023-02-08 12:14:25.143239: I tensorflow/core/common_runtime/bfc_allocator.cc:1046] InUse at 7f988f984800 of size 536870912 by op model/max_pooling2d_1/MaxPool action_count 93919338031956 step 16785723140339654582 next 198\n",
      "2023-02-08 12:14:25.143251: I tensorflow/core/common_runtime/bfc_allocator.cc:1046] InUse at 7f98af984800 of size 1073741824 by op model/conv2d_4/Relu action_count 93919338031957 step 16785723140339654582 next 199\n",
      "2023-02-08 12:14:25.143263: I tensorflow/core/common_runtime/bfc_allocator.cc:1046] InUse at 7f98ef984800 of size 1073741824 by op model/spatial_dropout2d_2/dropout/Mul action_count 93919338031980 step 16785723140339654582 next 200\n",
      "2023-02-08 12:14:25.143275: I tensorflow/core/common_runtime/bfc_allocator.cc:1046] InUse at 7f992f984800 of size 16384 by op model/spatial_dropout2d_2/dropout/ArithmeticOptimizer/ReorderCastLikeAndValuePreserving_float_Cast action_count 93919338031986 step 16785723140339654582 next 201\n",
      "2023-02-08 12:14:25.143289: I tensorflow/core/common_runtime/bfc_allocator.cc:1046] InUse at 7f992f988800 of size 1073741824 by op model/conv2d_5/Relu action_count 93919338031988 step 16785723140339654582 next 202\n",
      "2023-02-08 12:14:25.143301: I tensorflow/core/common_runtime/bfc_allocator.cc:1046] InUse at 7f996f988800 of size 268435456 by op model/max_pooling2d_2/MaxPool action_count 93919338032007 step 16785723140339654582 next 203\n",
      "2023-02-08 12:14:25.143314: I tensorflow/core/common_runtime/bfc_allocator.cc:1046] InUse at 7f997f988800 of size 536870912 by op model/conv2d_6/Relu action_count 93919338032008 step 16785723140339654582 next 204\n",
      "2023-02-08 12:14:25.143326: I tensorflow/core/common_runtime/bfc_allocator.cc:1046] InUse at 7f999f988800 of size 536870912 by op model/spatial_dropout2d_3/dropout/Mul action_count 93919338032035 step 16785723140339654582 next 205\n",
      "2023-02-08 12:14:25.143338: I tensorflow/core/common_runtime/bfc_allocator.cc:1046] InUse at 7f99bf988800 of size 32768 by op model/spatial_dropout2d_3/dropout/ArithmeticOptimizer/ReorderCastLikeAndValuePreserving_float_Cast action_count 93919338032041 step 16785723140339654582 next 206\n",
      "2023-02-08 12:14:25.143351: I tensorflow/core/common_runtime/bfc_allocator.cc:1046] InUse at 7f99bf990800 of size 536870912 by op model/conv2d_7/Relu action_count 93919338032043 step 16785723140339654582 next 207\n",
      "2023-02-08 12:14:25.143363: I tensorflow/core/common_runtime/bfc_allocator.cc:1046] InUse at 7f99df990800 of size 134217728 by op model/max_pooling2d_3/MaxPool action_count 93919338032066 step 16785723140339654582 next 208\n",
      "2023-02-08 12:14:25.143375: I tensorflow/core/common_runtime/bfc_allocator.cc:1046] InUse at 7f99e7990800 of size 268435456 by op model/conv2d_8/Relu action_count 93919338032067 step 16785723140339654582 next 209\n",
      "2023-02-08 12:14:25.143387: I tensorflow/core/common_runtime/bfc_allocator.cc:1046] InUse at 7f99f7990800 of size 268435456 by op model/spatial_dropout2d_4/dropout/Mul action_count 93919338032094 step 16785723140339654582 next 210\n",
      "2023-02-08 12:14:25.143399: I tensorflow/core/common_runtime/bfc_allocator.cc:1046] InUse at 7f9a07990800 of size 65536 by op model/spatial_dropout2d_4/dropout/ArithmeticOptimizer/ReorderCastLikeAndValuePreserving_float_Cast action_count 93919338032100 step 16785723140339654582 next 211\n",
      "2023-02-08 12:14:25.143412: I tensorflow/core/common_runtime/bfc_allocator.cc:1046] InUse at 7f9a079a0800 of size 268435456 by op model/conv2d_9/Relu action_count 93919338032102 step 16785723140339654582 next 212\n",
      "2023-02-08 12:14:25.143424: I tensorflow/core/common_runtime/bfc_allocator.cc:1046] InUse at 7f9a179a0800 of size 536870912 by op model/conv2d_10/Relu action_count 93919338032146 step 16785723140339654582 next 214\n",
      "2023-02-08 12:14:25.143438: I tensorflow/core/common_runtime/bfc_allocator.cc:1046] InUse at 7f9a379a0800 of size 538968064 by op model/conv2d_11/Relu action_count 93919338032169 step 16785723140339654582 next 215\n",
      "2023-02-08 12:14:25.143449: I tensorflow/core/common_runtime/bfc_allocator.cc:1046] InUse at 7f9a57ba0800 of size 1073741824 by op model/concatenate/concat action_count 93919338032144 step 16785723140339654582 next 213\n",
      "2023-02-08 12:14:25.143461: I tensorflow/core/common_runtime/bfc_allocator.cc:1046] InUse at 7f9a97ba0800 of size 1073741824 by op model/conv2d_12/Relu action_count 93919338032191 step 16785723140339654582 next 217\n",
      "2023-02-08 12:14:25.143489: I tensorflow/core/common_runtime/bfc_allocator.cc:1046] InUse at 7f9ad7ba0800 of size 1074266112 by op model/conv2d_13/Relu action_count 93919338032210 step 16785723140339654582 next 218\n",
      "2023-02-08 12:14:25.143501: I tensorflow/core/common_runtime/bfc_allocator.cc:1046] InUse at 7f9b17c20800 of size 2147483648 by op model/concatenate_1/concat action_count 93919338032189 step 16785723140339654582 next 216\n",
      "2023-02-08 12:14:25.143512: I tensorflow/core/common_runtime/bfc_allocator.cc:1046] Free  at 7f9b97c20800 of size 2147614720 by op UNUSED action_count 93919338032220 step 16785723140339654582 next 220\n",
      "2023-02-08 12:14:25.143523: I tensorflow/core/common_runtime/bfc_allocator.cc:1046] InUse at 7f9c17c40800 of size 2147483648 by op model/conv2d_transpose_2/conv2d_transpose action_count 93919338032217 step 16785723140339654582 next 221\n",
      "2023-02-08 12:14:25.143535: I tensorflow/core/common_runtime/bfc_allocator.cc:1046] Free  at 7f9c97c40800 of size 2211379200 by op UNUSED action_count 93919338032219 step 16785723140339654582 next 18446744073709551615\n",
      "2023-02-08 12:14:25.143546: I tensorflow/core/common_runtime/bfc_allocator.cc:1051]      Summary of in-use Chunks by size: \n",
      "2023-02-08 12:14:25.143559: I tensorflow/core/common_runtime/bfc_allocator.cc:1054] 83 Chunks of size 256 totalling 20.8KiB\n",
      "2023-02-08 12:14:25.143570: I tensorflow/core/common_runtime/bfc_allocator.cc:1054] 14 Chunks of size 512 totalling 7.0KiB\n",
      "2023-02-08 12:14:25.143581: I tensorflow/core/common_runtime/bfc_allocator.cc:1054] 1 Chunks of size 768 totalling 768B\n",
      "2023-02-08 12:14:25.143594: I tensorflow/core/common_runtime/bfc_allocator.cc:1054] 14 Chunks of size 1024 totalling 14.0KiB\n",
      "2023-02-08 12:14:25.143606: I tensorflow/core/common_runtime/bfc_allocator.cc:1054] 5 Chunks of size 1280 totalling 6.2KiB\n",
      "2023-02-08 12:14:25.143617: I tensorflow/core/common_runtime/bfc_allocator.cc:1054] 6 Chunks of size 2048 totalling 12.0KiB\n",
      "2023-02-08 12:14:25.143628: I tensorflow/core/common_runtime/bfc_allocator.cc:1054] 1 Chunks of size 4096 totalling 4.0KiB\n",
      "2023-02-08 12:14:25.143639: I tensorflow/core/common_runtime/bfc_allocator.cc:1054] 1 Chunks of size 8192 totalling 8.0KiB\n",
      "2023-02-08 12:14:25.143652: I tensorflow/core/common_runtime/bfc_allocator.cc:1054] 1 Chunks of size 16384 totalling 16.0KiB\n",
      "2023-02-08 12:14:25.143663: I tensorflow/core/common_runtime/bfc_allocator.cc:1054] 2 Chunks of size 32768 totalling 64.0KiB\n",
      "2023-02-08 12:14:25.143674: I tensorflow/core/common_runtime/bfc_allocator.cc:1054] 5 Chunks of size 36864 totalling 180.0KiB\n",
      "2023-02-08 12:14:25.143685: I tensorflow/core/common_runtime/bfc_allocator.cc:1054] 1 Chunks of size 40192 totalling 39.2KiB\n",
      "2023-02-08 12:14:25.143696: I tensorflow/core/common_runtime/bfc_allocator.cc:1054] 1 Chunks of size 53248 totalling 52.0KiB\n",
      "2023-02-08 12:14:25.143707: I tensorflow/core/common_runtime/bfc_allocator.cc:1054] 1 Chunks of size 59392 totalling 58.0KiB\n",
      "2023-02-08 12:14:25.143718: I tensorflow/core/common_runtime/bfc_allocator.cc:1054] 1 Chunks of size 65536 totalling 64.0KiB\n",
      "2023-02-08 12:14:25.143729: I tensorflow/core/common_runtime/bfc_allocator.cc:1054] 6 Chunks of size 73728 totalling 432.0KiB\n",
      "2023-02-08 12:14:25.143740: I tensorflow/core/common_runtime/bfc_allocator.cc:1054] 2 Chunks of size 131072 totalling 256.0KiB\n",
      "2023-02-08 12:14:25.143751: I tensorflow/core/common_runtime/bfc_allocator.cc:1054] 7 Chunks of size 147456 totalling 1008.0KiB\n",
      "2023-02-08 12:14:25.143762: I tensorflow/core/common_runtime/bfc_allocator.cc:1054] 5 Chunks of size 294912 totalling 1.41MiB\n",
      "2023-02-08 12:14:25.143773: I tensorflow/core/common_runtime/bfc_allocator.cc:1054] 1 Chunks of size 360448 totalling 352.0KiB\n",
      "2023-02-08 12:14:25.143784: I tensorflow/core/common_runtime/bfc_allocator.cc:1054] 2 Chunks of size 524288 totalling 1.00MiB\n",
      "2023-02-08 12:14:25.143795: I tensorflow/core/common_runtime/bfc_allocator.cc:1054] 7 Chunks of size 589824 totalling 3.94MiB\n",
      "2023-02-08 12:14:25.143806: I tensorflow/core/common_runtime/bfc_allocator.cc:1054] 5 Chunks of size 1179648 totalling 5.62MiB\n",
      "2023-02-08 12:14:25.143817: I tensorflow/core/common_runtime/bfc_allocator.cc:1054] 1 Chunks of size 1441792 totalling 1.38MiB\n",
      "2023-02-08 12:14:25.143828: I tensorflow/core/common_runtime/bfc_allocator.cc:1054] 2 Chunks of size 2097152 totalling 4.00MiB\n",
      "2023-02-08 12:14:25.143839: I tensorflow/core/common_runtime/bfc_allocator.cc:1054] 7 Chunks of size 2359296 totalling 15.75MiB\n",
      "2023-02-08 12:14:25.143850: I tensorflow/core/common_runtime/bfc_allocator.cc:1054] 6 Chunks of size 4718592 totalling 27.00MiB\n",
      "2023-02-08 12:14:25.143861: I tensorflow/core/common_runtime/bfc_allocator.cc:1054] 3 Chunks of size 9437184 totalling 27.00MiB\n",
      "2023-02-08 12:14:25.143873: I tensorflow/core/common_runtime/bfc_allocator.cc:1054] 3 Chunks of size 134217728 totalling 384.00MiB\n",
      "2023-02-08 12:14:25.143884: I tensorflow/core/common_runtime/bfc_allocator.cc:1054] 4 Chunks of size 268435456 totalling 1.00GiB\n",
      "2023-02-08 12:14:25.143895: I tensorflow/core/common_runtime/bfc_allocator.cc:1054] 5 Chunks of size 536870912 totalling 2.50GiB\n",
      "2023-02-08 12:14:25.143906: I tensorflow/core/common_runtime/bfc_allocator.cc:1054] 1 Chunks of size 538968064 totalling 514.00MiB\n",
      "2023-02-08 12:14:25.143920: I tensorflow/core/common_runtime/bfc_allocator.cc:1054] 6 Chunks of size 1073741824 totalling 6.00GiB\n",
      "2023-02-08 12:14:25.143931: I tensorflow/core/common_runtime/bfc_allocator.cc:1054] 1 Chunks of size 1074266112 totalling 1.00GiB\n",
      "2023-02-08 12:14:25.143942: I tensorflow/core/common_runtime/bfc_allocator.cc:1054] 5 Chunks of size 2147483648 totalling 10.00GiB\n",
      "2023-02-08 12:14:25.143953: I tensorflow/core/common_runtime/bfc_allocator.cc:1054] 3 Chunks of size 4294967296 totalling 12.00GiB\n",
      "2023-02-08 12:14:25.143964: I tensorflow/core/common_runtime/bfc_allocator.cc:1058] Sum Total of in-use chunks: 33.46GiB\n",
      "2023-02-08 12:14:25.143975: I tensorflow/core/common_runtime/bfc_allocator.cc:1060] total_region_allocated_bytes_: 40291729408 memory_limit_: 40291729408 available bytes: 0 curr_region_allocation_bytes_: 80583458816\n",
      "2023-02-08 12:14:25.143989: I tensorflow/core/common_runtime/bfc_allocator.cc:1066] Stats: \n",
      "Limit:                     40291729408\n",
      "InUse:                     35932735488\n",
      "MaxInUse:                  40291729408\n",
      "NumAllocs:                         436\n",
      "MaxAllocSize:               4311744512\n",
      "Reserved:                            0\n",
      "PeakReserved:                        0\n",
      "LargestFreeBlock:                    0\n",
      "\n",
      "2023-02-08 12:14:25.144011: W tensorflow/core/common_runtime/bfc_allocator.cc:467] ************************************************************************************_____******_____\n",
      "2023-02-08 12:14:25.144119: W tensorflow/core/framework/op_kernel.cc:1767] OP_REQUIRES failed at concat_op.cc:158 : Resource exhausted: OOM when allocating tensor with shape[32,128,256,1024] and type float on /job:localhost/replica:0/task:0/device:GPU:0 by allocator GPU_0_bfc\n"
     ]
    },
    {
     "ename": "ResourceExhaustedError",
     "evalue": " OOM when allocating tensor with shape[32,128,256,1024] and type float on /job:localhost/replica:0/task:0/device:GPU:0 by allocator GPU_0_bfc\n\t [[node model/concatenate_2/concat (defined at tmp/ipykernel_737745/3825169751.py:1) ]]\nHint: If you want to see a list of allocated tensors when OOM happens, add report_tensor_allocations_upon_oom to RunOptions for current allocation info.\n [Op:__inference_train_function_3021]\n\nFunction call stack:\ntrain_function\n",
     "output_type": "error",
     "traceback": [
      "\u001b[0;31m---------------------------------------------------------------------------\u001b[0m",
      "\u001b[0;31mResourceExhaustedError\u001b[0m                    Traceback (most recent call last)",
      "Cell \u001b[0;32mIn[20], line 1\u001b[0m\n\u001b[0;32m----> 1\u001b[0m history \u001b[38;5;241m=\u001b[39m \u001b[43mmodel\u001b[49m\u001b[38;5;241;43m.\u001b[39;49m\u001b[43mfit\u001b[49m\u001b[43m(\u001b[49m\u001b[43mX_train\u001b[49m\u001b[43m,\u001b[49m\u001b[43m \u001b[49m\n\u001b[1;32m      2\u001b[0m \u001b[43m                    \u001b[49m\u001b[43my_train\u001b[49m\u001b[43m,\u001b[49m\u001b[43m \u001b[49m\n\u001b[1;32m      3\u001b[0m \u001b[43m                    \u001b[49m\u001b[38;5;241;43m32\u001b[39;49m\u001b[43m,\u001b[49m\u001b[43m \u001b[49m\n\u001b[1;32m      4\u001b[0m \u001b[43m                    \u001b[49m\u001b[43mepochs\u001b[49m\u001b[38;5;241;43m=\u001b[39;49m\u001b[38;5;241;43m100\u001b[39;49m\u001b[43m,\u001b[49m\n\u001b[1;32m      5\u001b[0m \u001b[43m                    \u001b[49m\u001b[43mvalidation_data\u001b[49m\u001b[38;5;241;43m=\u001b[39;49m\u001b[43m(\u001b[49m\u001b[43mX_val\u001b[49m\u001b[43m,\u001b[49m\u001b[43m \u001b[49m\u001b[43my_val\u001b[49m\u001b[43m)\u001b[49m\u001b[43m,\u001b[49m\u001b[43m \u001b[49m\n\u001b[1;32m      6\u001b[0m \u001b[43m                    \u001b[49m\u001b[43mverbose\u001b[49m\u001b[38;5;241;43m=\u001b[39;49m\u001b[38;5;241;43m1\u001b[39;49m\u001b[43m)\u001b[49m\n",
      "File \u001b[0;32m~/miniconda3/envs/TF25/lib/python3.9/site-packages/tensorflow/python/keras/engine/training.py:1183\u001b[0m, in \u001b[0;36mModel.fit\u001b[0;34m(self, x, y, batch_size, epochs, verbose, callbacks, validation_split, validation_data, shuffle, class_weight, sample_weight, initial_epoch, steps_per_epoch, validation_steps, validation_batch_size, validation_freq, max_queue_size, workers, use_multiprocessing)\u001b[0m\n\u001b[1;32m   1176\u001b[0m \u001b[38;5;28;01mwith\u001b[39;00m trace\u001b[38;5;241m.\u001b[39mTrace(\n\u001b[1;32m   1177\u001b[0m     \u001b[38;5;124m'\u001b[39m\u001b[38;5;124mtrain\u001b[39m\u001b[38;5;124m'\u001b[39m,\n\u001b[1;32m   1178\u001b[0m     epoch_num\u001b[38;5;241m=\u001b[39mepoch,\n\u001b[1;32m   1179\u001b[0m     step_num\u001b[38;5;241m=\u001b[39mstep,\n\u001b[1;32m   1180\u001b[0m     batch_size\u001b[38;5;241m=\u001b[39mbatch_size,\n\u001b[1;32m   1181\u001b[0m     _r\u001b[38;5;241m=\u001b[39m\u001b[38;5;241m1\u001b[39m):\n\u001b[1;32m   1182\u001b[0m   callbacks\u001b[38;5;241m.\u001b[39mon_train_batch_begin(step)\n\u001b[0;32m-> 1183\u001b[0m   tmp_logs \u001b[38;5;241m=\u001b[39m \u001b[38;5;28;43mself\u001b[39;49m\u001b[38;5;241;43m.\u001b[39;49m\u001b[43mtrain_function\u001b[49m\u001b[43m(\u001b[49m\u001b[43miterator\u001b[49m\u001b[43m)\u001b[49m\n\u001b[1;32m   1184\u001b[0m   \u001b[38;5;28;01mif\u001b[39;00m data_handler\u001b[38;5;241m.\u001b[39mshould_sync:\n\u001b[1;32m   1185\u001b[0m     context\u001b[38;5;241m.\u001b[39masync_wait()\n",
      "File \u001b[0;32m~/miniconda3/envs/TF25/lib/python3.9/site-packages/tensorflow/python/eager/def_function.py:889\u001b[0m, in \u001b[0;36mFunction.__call__\u001b[0;34m(self, *args, **kwds)\u001b[0m\n\u001b[1;32m    886\u001b[0m compiler \u001b[38;5;241m=\u001b[39m \u001b[38;5;124m\"\u001b[39m\u001b[38;5;124mxla\u001b[39m\u001b[38;5;124m\"\u001b[39m \u001b[38;5;28;01mif\u001b[39;00m \u001b[38;5;28mself\u001b[39m\u001b[38;5;241m.\u001b[39m_jit_compile \u001b[38;5;28;01melse\u001b[39;00m \u001b[38;5;124m\"\u001b[39m\u001b[38;5;124mnonXla\u001b[39m\u001b[38;5;124m\"\u001b[39m\n\u001b[1;32m    888\u001b[0m \u001b[38;5;28;01mwith\u001b[39;00m OptionalXlaContext(\u001b[38;5;28mself\u001b[39m\u001b[38;5;241m.\u001b[39m_jit_compile):\n\u001b[0;32m--> 889\u001b[0m   result \u001b[38;5;241m=\u001b[39m \u001b[38;5;28;43mself\u001b[39;49m\u001b[38;5;241;43m.\u001b[39;49m\u001b[43m_call\u001b[49m\u001b[43m(\u001b[49m\u001b[38;5;241;43m*\u001b[39;49m\u001b[43margs\u001b[49m\u001b[43m,\u001b[49m\u001b[43m \u001b[49m\u001b[38;5;241;43m*\u001b[39;49m\u001b[38;5;241;43m*\u001b[39;49m\u001b[43mkwds\u001b[49m\u001b[43m)\u001b[49m\n\u001b[1;32m    891\u001b[0m new_tracing_count \u001b[38;5;241m=\u001b[39m \u001b[38;5;28mself\u001b[39m\u001b[38;5;241m.\u001b[39mexperimental_get_tracing_count()\n\u001b[1;32m    892\u001b[0m without_tracing \u001b[38;5;241m=\u001b[39m (tracing_count \u001b[38;5;241m==\u001b[39m new_tracing_count)\n",
      "File \u001b[0;32m~/miniconda3/envs/TF25/lib/python3.9/site-packages/tensorflow/python/eager/def_function.py:950\u001b[0m, in \u001b[0;36mFunction._call\u001b[0;34m(self, *args, **kwds)\u001b[0m\n\u001b[1;32m    946\u001b[0m     \u001b[38;5;28;01mpass\u001b[39;00m  \u001b[38;5;66;03m# Fall through to cond-based initialization.\u001b[39;00m\n\u001b[1;32m    947\u001b[0m   \u001b[38;5;28;01melse\u001b[39;00m:\n\u001b[1;32m    948\u001b[0m     \u001b[38;5;66;03m# Lifting succeeded, so variables are initialized and we can run the\u001b[39;00m\n\u001b[1;32m    949\u001b[0m     \u001b[38;5;66;03m# stateless function.\u001b[39;00m\n\u001b[0;32m--> 950\u001b[0m     \u001b[38;5;28;01mreturn\u001b[39;00m \u001b[38;5;28;43mself\u001b[39;49m\u001b[38;5;241;43m.\u001b[39;49m\u001b[43m_stateless_fn\u001b[49m\u001b[43m(\u001b[49m\u001b[38;5;241;43m*\u001b[39;49m\u001b[43margs\u001b[49m\u001b[43m,\u001b[49m\u001b[43m \u001b[49m\u001b[38;5;241;43m*\u001b[39;49m\u001b[38;5;241;43m*\u001b[39;49m\u001b[43mkwds\u001b[49m\u001b[43m)\u001b[49m\n\u001b[1;32m    951\u001b[0m \u001b[38;5;28;01melse\u001b[39;00m:\n\u001b[1;32m    952\u001b[0m   _, _, _, filtered_flat_args \u001b[38;5;241m=\u001b[39m \\\n\u001b[1;32m    953\u001b[0m       \u001b[38;5;28mself\u001b[39m\u001b[38;5;241m.\u001b[39m_stateful_fn\u001b[38;5;241m.\u001b[39m_function_spec\u001b[38;5;241m.\u001b[39mcanonicalize_function_inputs(  \u001b[38;5;66;03m# pylint: disable=protected-access\u001b[39;00m\n\u001b[1;32m    954\u001b[0m           \u001b[38;5;241m*\u001b[39margs, \u001b[38;5;241m*\u001b[39m\u001b[38;5;241m*\u001b[39mkwds)\n",
      "File \u001b[0;32m~/miniconda3/envs/TF25/lib/python3.9/site-packages/tensorflow/python/eager/function.py:3023\u001b[0m, in \u001b[0;36mFunction.__call__\u001b[0;34m(self, *args, **kwargs)\u001b[0m\n\u001b[1;32m   3020\u001b[0m \u001b[38;5;28;01mwith\u001b[39;00m \u001b[38;5;28mself\u001b[39m\u001b[38;5;241m.\u001b[39m_lock:\n\u001b[1;32m   3021\u001b[0m   (graph_function,\n\u001b[1;32m   3022\u001b[0m    filtered_flat_args) \u001b[38;5;241m=\u001b[39m \u001b[38;5;28mself\u001b[39m\u001b[38;5;241m.\u001b[39m_maybe_define_function(args, kwargs)\n\u001b[0;32m-> 3023\u001b[0m \u001b[38;5;28;01mreturn\u001b[39;00m \u001b[43mgraph_function\u001b[49m\u001b[38;5;241;43m.\u001b[39;49m\u001b[43m_call_flat\u001b[49m\u001b[43m(\u001b[49m\n\u001b[1;32m   3024\u001b[0m \u001b[43m    \u001b[49m\u001b[43mfiltered_flat_args\u001b[49m\u001b[43m,\u001b[49m\u001b[43m \u001b[49m\u001b[43mcaptured_inputs\u001b[49m\u001b[38;5;241;43m=\u001b[39;49m\u001b[43mgraph_function\u001b[49m\u001b[38;5;241;43m.\u001b[39;49m\u001b[43mcaptured_inputs\u001b[49m\u001b[43m)\u001b[49m\n",
      "File \u001b[0;32m~/miniconda3/envs/TF25/lib/python3.9/site-packages/tensorflow/python/eager/function.py:1960\u001b[0m, in \u001b[0;36mConcreteFunction._call_flat\u001b[0;34m(self, args, captured_inputs, cancellation_manager)\u001b[0m\n\u001b[1;32m   1956\u001b[0m possible_gradient_type \u001b[38;5;241m=\u001b[39m gradients_util\u001b[38;5;241m.\u001b[39mPossibleTapeGradientTypes(args)\n\u001b[1;32m   1957\u001b[0m \u001b[38;5;28;01mif\u001b[39;00m (possible_gradient_type \u001b[38;5;241m==\u001b[39m gradients_util\u001b[38;5;241m.\u001b[39mPOSSIBLE_GRADIENT_TYPES_NONE\n\u001b[1;32m   1958\u001b[0m     \u001b[38;5;129;01mand\u001b[39;00m executing_eagerly):\n\u001b[1;32m   1959\u001b[0m   \u001b[38;5;66;03m# No tape is watching; skip to running the function.\u001b[39;00m\n\u001b[0;32m-> 1960\u001b[0m   \u001b[38;5;28;01mreturn\u001b[39;00m \u001b[38;5;28mself\u001b[39m\u001b[38;5;241m.\u001b[39m_build_call_outputs(\u001b[38;5;28;43mself\u001b[39;49m\u001b[38;5;241;43m.\u001b[39;49m\u001b[43m_inference_function\u001b[49m\u001b[38;5;241;43m.\u001b[39;49m\u001b[43mcall\u001b[49m\u001b[43m(\u001b[49m\n\u001b[1;32m   1961\u001b[0m \u001b[43m      \u001b[49m\u001b[43mctx\u001b[49m\u001b[43m,\u001b[49m\u001b[43m \u001b[49m\u001b[43margs\u001b[49m\u001b[43m,\u001b[49m\u001b[43m \u001b[49m\u001b[43mcancellation_manager\u001b[49m\u001b[38;5;241;43m=\u001b[39;49m\u001b[43mcancellation_manager\u001b[49m\u001b[43m)\u001b[49m)\n\u001b[1;32m   1962\u001b[0m forward_backward \u001b[38;5;241m=\u001b[39m \u001b[38;5;28mself\u001b[39m\u001b[38;5;241m.\u001b[39m_select_forward_and_backward_functions(\n\u001b[1;32m   1963\u001b[0m     args,\n\u001b[1;32m   1964\u001b[0m     possible_gradient_type,\n\u001b[1;32m   1965\u001b[0m     executing_eagerly)\n\u001b[1;32m   1966\u001b[0m forward_function, args_with_tangents \u001b[38;5;241m=\u001b[39m forward_backward\u001b[38;5;241m.\u001b[39mforward()\n",
      "File \u001b[0;32m~/miniconda3/envs/TF25/lib/python3.9/site-packages/tensorflow/python/eager/function.py:591\u001b[0m, in \u001b[0;36m_EagerDefinedFunction.call\u001b[0;34m(self, ctx, args, cancellation_manager)\u001b[0m\n\u001b[1;32m    589\u001b[0m \u001b[38;5;28;01mwith\u001b[39;00m _InterpolateFunctionError(\u001b[38;5;28mself\u001b[39m):\n\u001b[1;32m    590\u001b[0m   \u001b[38;5;28;01mif\u001b[39;00m cancellation_manager \u001b[38;5;129;01mis\u001b[39;00m \u001b[38;5;28;01mNone\u001b[39;00m:\n\u001b[0;32m--> 591\u001b[0m     outputs \u001b[38;5;241m=\u001b[39m \u001b[43mexecute\u001b[49m\u001b[38;5;241;43m.\u001b[39;49m\u001b[43mexecute\u001b[49m\u001b[43m(\u001b[49m\n\u001b[1;32m    592\u001b[0m \u001b[43m        \u001b[49m\u001b[38;5;28;43mstr\u001b[39;49m\u001b[43m(\u001b[49m\u001b[38;5;28;43mself\u001b[39;49m\u001b[38;5;241;43m.\u001b[39;49m\u001b[43msignature\u001b[49m\u001b[38;5;241;43m.\u001b[39;49m\u001b[43mname\u001b[49m\u001b[43m)\u001b[49m\u001b[43m,\u001b[49m\n\u001b[1;32m    593\u001b[0m \u001b[43m        \u001b[49m\u001b[43mnum_outputs\u001b[49m\u001b[38;5;241;43m=\u001b[39;49m\u001b[38;5;28;43mself\u001b[39;49m\u001b[38;5;241;43m.\u001b[39;49m\u001b[43m_num_outputs\u001b[49m\u001b[43m,\u001b[49m\n\u001b[1;32m    594\u001b[0m \u001b[43m        \u001b[49m\u001b[43minputs\u001b[49m\u001b[38;5;241;43m=\u001b[39;49m\u001b[43margs\u001b[49m\u001b[43m,\u001b[49m\n\u001b[1;32m    595\u001b[0m \u001b[43m        \u001b[49m\u001b[43mattrs\u001b[49m\u001b[38;5;241;43m=\u001b[39;49m\u001b[43mattrs\u001b[49m\u001b[43m,\u001b[49m\n\u001b[1;32m    596\u001b[0m \u001b[43m        \u001b[49m\u001b[43mctx\u001b[49m\u001b[38;5;241;43m=\u001b[39;49m\u001b[43mctx\u001b[49m\u001b[43m)\u001b[49m\n\u001b[1;32m    597\u001b[0m   \u001b[38;5;28;01melse\u001b[39;00m:\n\u001b[1;32m    598\u001b[0m     outputs \u001b[38;5;241m=\u001b[39m execute\u001b[38;5;241m.\u001b[39mexecute_with_cancellation(\n\u001b[1;32m    599\u001b[0m         \u001b[38;5;28mstr\u001b[39m(\u001b[38;5;28mself\u001b[39m\u001b[38;5;241m.\u001b[39msignature\u001b[38;5;241m.\u001b[39mname),\n\u001b[1;32m    600\u001b[0m         num_outputs\u001b[38;5;241m=\u001b[39m\u001b[38;5;28mself\u001b[39m\u001b[38;5;241m.\u001b[39m_num_outputs,\n\u001b[0;32m   (...)\u001b[0m\n\u001b[1;32m    603\u001b[0m         ctx\u001b[38;5;241m=\u001b[39mctx,\n\u001b[1;32m    604\u001b[0m         cancellation_manager\u001b[38;5;241m=\u001b[39mcancellation_manager)\n",
      "File \u001b[0;32m~/miniconda3/envs/TF25/lib/python3.9/site-packages/tensorflow/python/eager/execute.py:59\u001b[0m, in \u001b[0;36mquick_execute\u001b[0;34m(op_name, num_outputs, inputs, attrs, ctx, name)\u001b[0m\n\u001b[1;32m     57\u001b[0m \u001b[38;5;28;01mtry\u001b[39;00m:\n\u001b[1;32m     58\u001b[0m   ctx\u001b[38;5;241m.\u001b[39mensure_initialized()\n\u001b[0;32m---> 59\u001b[0m   tensors \u001b[38;5;241m=\u001b[39m \u001b[43mpywrap_tfe\u001b[49m\u001b[38;5;241;43m.\u001b[39;49m\u001b[43mTFE_Py_Execute\u001b[49m\u001b[43m(\u001b[49m\u001b[43mctx\u001b[49m\u001b[38;5;241;43m.\u001b[39;49m\u001b[43m_handle\u001b[49m\u001b[43m,\u001b[49m\u001b[43m \u001b[49m\u001b[43mdevice_name\u001b[49m\u001b[43m,\u001b[49m\u001b[43m \u001b[49m\u001b[43mop_name\u001b[49m\u001b[43m,\u001b[49m\n\u001b[1;32m     60\u001b[0m \u001b[43m                                      \u001b[49m\u001b[43minputs\u001b[49m\u001b[43m,\u001b[49m\u001b[43m \u001b[49m\u001b[43mattrs\u001b[49m\u001b[43m,\u001b[49m\u001b[43m \u001b[49m\u001b[43mnum_outputs\u001b[49m\u001b[43m)\u001b[49m\n\u001b[1;32m     61\u001b[0m \u001b[38;5;28;01mexcept\u001b[39;00m core\u001b[38;5;241m.\u001b[39m_NotOkStatusException \u001b[38;5;28;01mas\u001b[39;00m e:\n\u001b[1;32m     62\u001b[0m   \u001b[38;5;28;01mif\u001b[39;00m name \u001b[38;5;129;01mis\u001b[39;00m \u001b[38;5;129;01mnot\u001b[39;00m \u001b[38;5;28;01mNone\u001b[39;00m:\n",
      "\u001b[0;31mResourceExhaustedError\u001b[0m:  OOM when allocating tensor with shape[32,128,256,1024] and type float on /job:localhost/replica:0/task:0/device:GPU:0 by allocator GPU_0_bfc\n\t [[node model/concatenate_2/concat (defined at tmp/ipykernel_737745/3825169751.py:1) ]]\nHint: If you want to see a list of allocated tensors when OOM happens, add report_tensor_allocations_upon_oom to RunOptions for current allocation info.\n [Op:__inference_train_function_3021]\n\nFunction call stack:\ntrain_function\n"
     ]
    }
   ],
   "source": [
    "history = model.fit(X_train, \n",
    "                    y_train, \n",
    "                    32, \n",
    "                    epochs=100,\n",
    "                    validation_data=(X_val, y_val), \n",
    "                    verbose=1)"
   ]
  },
  {
   "cell_type": "code",
   "execution_count": null,
   "id": "82164539",
   "metadata": {},
   "outputs": [],
   "source": []
  }
 ],
 "metadata": {
  "kernelspec": {
   "display_name": "Python 3 (ipykernel)",
   "language": "python",
   "name": "python3"
  },
  "language_info": {
   "codemirror_mode": {
    "name": "ipython",
    "version": 3
   },
   "file_extension": ".py",
   "mimetype": "text/x-python",
   "name": "python",
   "nbconvert_exporter": "python",
   "pygments_lexer": "ipython3",
   "version": "3.9.7"
  }
 },
 "nbformat": 4,
 "nbformat_minor": 5
}
