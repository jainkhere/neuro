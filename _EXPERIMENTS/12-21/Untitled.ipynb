{
 "cells": [
  {
   "cell_type": "code",
   "execution_count": 14,
   "id": "8d125421",
   "metadata": {},
   "outputs": [
    {
     "name": "stdout",
     "output_type": "stream",
     "text": [
      "Populating the interactive namespace from numpy and matplotlib\n"
     ]
    }
   ],
   "source": [
    "%pylab inline"
   ]
  },
  {
   "cell_type": "code",
   "execution_count": 15,
   "id": "3a146c54",
   "metadata": {},
   "outputs": [],
   "source": [
    "import os\n",
    "import mahotas as mh"
   ]
  },
  {
   "cell_type": "code",
   "execution_count": 16,
   "id": "6eb6e9ec",
   "metadata": {},
   "outputs": [],
   "source": [
    "DATA_DIR = '/raid/mpsych/RISTERLAB/fly_segmentation_experiments/classified_images/good_3'"
   ]
  },
  {
   "cell_type": "code",
   "execution_count": 17,
   "id": "d81d079c",
   "metadata": {},
   "outputs": [],
   "source": [
    "all_images = []"
   ]
  },
  {
   "cell_type": "code",
   "execution_count": 18,
   "id": "bd7ee816",
   "metadata": {},
   "outputs": [
    {
     "name": "stdout",
     "output_type": "stream",
     "text": [
      "/raid/mpsych/RISTERLAB/fly_segmentation_experiments/classified_images/good_3/a0.tif\n",
      "/raid/mpsych/RISTERLAB/fly_segmentation_experiments/classified_images/good_3/a1.tif\n",
      "/raid/mpsych/RISTERLAB/fly_segmentation_experiments/classified_images/good_3/a2.tif\n",
      "/raid/mpsych/RISTERLAB/fly_segmentation_experiments/classified_images/good_3/a3.tif\n",
      "/raid/mpsych/RISTERLAB/fly_segmentation_experiments/classified_images/good_3/a4.tif\n",
      "/raid/mpsych/RISTERLAB/fly_segmentation_experiments/classified_images/good_3/a5.tif\n",
      "/raid/mpsych/RISTERLAB/fly_segmentation_experiments/classified_images/good_3/a6.tif\n",
      "/raid/mpsych/RISTERLAB/fly_segmentation_experiments/classified_images/good_3/a7.tif\n",
      "/raid/mpsych/RISTERLAB/fly_segmentation_experiments/classified_images/good_3/a8.tif\n",
      "/raid/mpsych/RISTERLAB/fly_segmentation_experiments/classified_images/good_3/a9.tif\n",
      "/raid/mpsych/RISTERLAB/fly_segmentation_experiments/classified_images/good_3/a10.tif\n",
      "/raid/mpsych/RISTERLAB/fly_segmentation_experiments/classified_images/good_3/a11.tif\n",
      "/raid/mpsych/RISTERLAB/fly_segmentation_experiments/classified_images/good_3/a12.tif\n",
      "/raid/mpsych/RISTERLAB/fly_segmentation_experiments/classified_images/good_3/a13.tif\n",
      "/raid/mpsych/RISTERLAB/fly_segmentation_experiments/classified_images/good_3/a14.tif\n",
      "/raid/mpsych/RISTERLAB/fly_segmentation_experiments/classified_images/good_3/a15.tif\n",
      "/raid/mpsych/RISTERLAB/fly_segmentation_experiments/classified_images/good_3/a16.tif\n",
      "/raid/mpsych/RISTERLAB/fly_segmentation_experiments/classified_images/good_3/a17.tif\n",
      "/raid/mpsych/RISTERLAB/fly_segmentation_experiments/classified_images/good_3/a18.tif\n",
      "/raid/mpsych/RISTERLAB/fly_segmentation_experiments/classified_images/good_3/a19.tif\n",
      "/raid/mpsych/RISTERLAB/fly_segmentation_experiments/classified_images/good_3/a20.tif\n",
      "/raid/mpsych/RISTERLAB/fly_segmentation_experiments/classified_images/good_3/a21.tif\n",
      "/raid/mpsych/RISTERLAB/fly_segmentation_experiments/classified_images/good_3/a22.tif\n",
      "/raid/mpsych/RISTERLAB/fly_segmentation_experiments/classified_images/good_3/a23.tif\n",
      "/raid/mpsych/RISTERLAB/fly_segmentation_experiments/classified_images/good_3/a24.tif\n",
      "/raid/mpsych/RISTERLAB/fly_segmentation_experiments/classified_images/good_3/a25.tif\n",
      "/raid/mpsych/RISTERLAB/fly_segmentation_experiments/classified_images/good_3/a26.tif\n",
      "/raid/mpsych/RISTERLAB/fly_segmentation_experiments/classified_images/good_3/a27.tif\n",
      "/raid/mpsych/RISTERLAB/fly_segmentation_experiments/classified_images/good_3/a28.tif\n",
      "/raid/mpsych/RISTERLAB/fly_segmentation_experiments/classified_images/good_3/a29.tif\n",
      "/raid/mpsych/RISTERLAB/fly_segmentation_experiments/classified_images/good_3/a30.tif\n",
      "/raid/mpsych/RISTERLAB/fly_segmentation_experiments/classified_images/good_3/a31.tif\n",
      "/raid/mpsych/RISTERLAB/fly_segmentation_experiments/classified_images/good_3/a32.tif\n",
      "/raid/mpsych/RISTERLAB/fly_segmentation_experiments/classified_images/good_3/a33.tif\n",
      "/raid/mpsych/RISTERLAB/fly_segmentation_experiments/classified_images/good_3/a34.tif\n",
      "/raid/mpsych/RISTERLAB/fly_segmentation_experiments/classified_images/good_3/a35.tif\n",
      "/raid/mpsych/RISTERLAB/fly_segmentation_experiments/classified_images/good_3/a36.tif\n",
      "/raid/mpsych/RISTERLAB/fly_segmentation_experiments/classified_images/good_3/a37.tif\n",
      "/raid/mpsych/RISTERLAB/fly_segmentation_experiments/classified_images/good_3/a38.tif\n",
      "/raid/mpsych/RISTERLAB/fly_segmentation_experiments/classified_images/good_3/a39.tif\n",
      "/raid/mpsych/RISTERLAB/fly_segmentation_experiments/classified_images/good_3/a40.tif\n",
      "/raid/mpsych/RISTERLAB/fly_segmentation_experiments/classified_images/good_3/a41.tif\n",
      "/raid/mpsych/RISTERLAB/fly_segmentation_experiments/classified_images/good_3/a42.tif\n",
      "/raid/mpsych/RISTERLAB/fly_segmentation_experiments/classified_images/good_3/a43.tif\n",
      "/raid/mpsych/RISTERLAB/fly_segmentation_experiments/classified_images/good_3/a44.tif\n",
      "/raid/mpsych/RISTERLAB/fly_segmentation_experiments/classified_images/good_3/a45.tif\n",
      "/raid/mpsych/RISTERLAB/fly_segmentation_experiments/classified_images/good_3/a46.tif\n",
      "/raid/mpsych/RISTERLAB/fly_segmentation_experiments/classified_images/good_3/a47.tif\n",
      "/raid/mpsych/RISTERLAB/fly_segmentation_experiments/classified_images/good_3/a48.tif\n",
      "/raid/mpsych/RISTERLAB/fly_segmentation_experiments/classified_images/good_3/a49.tif\n",
      "/raid/mpsych/RISTERLAB/fly_segmentation_experiments/classified_images/good_3/a50.tif\n",
      "/raid/mpsych/RISTERLAB/fly_segmentation_experiments/classified_images/good_3/a51.tif\n",
      "/raid/mpsych/RISTERLAB/fly_segmentation_experiments/classified_images/good_3/a52.tif\n",
      "/raid/mpsych/RISTERLAB/fly_segmentation_experiments/classified_images/good_3/a53.tif\n",
      "/raid/mpsych/RISTERLAB/fly_segmentation_experiments/classified_images/good_3/a54.tif\n",
      "/raid/mpsych/RISTERLAB/fly_segmentation_experiments/classified_images/good_3/a55.tif\n",
      "/raid/mpsych/RISTERLAB/fly_segmentation_experiments/classified_images/good_3/a56.tif\n",
      "/raid/mpsych/RISTERLAB/fly_segmentation_experiments/classified_images/good_3/a57.tif\n",
      "/raid/mpsych/RISTERLAB/fly_segmentation_experiments/classified_images/good_3/a58.tif\n",
      "/raid/mpsych/RISTERLAB/fly_segmentation_experiments/classified_images/good_3/a59.tif\n",
      "/raid/mpsych/RISTERLAB/fly_segmentation_experiments/classified_images/good_3/a60.tif\n",
      "/raid/mpsych/RISTERLAB/fly_segmentation_experiments/classified_images/good_3/a61.tif\n",
      "/raid/mpsych/RISTERLAB/fly_segmentation_experiments/classified_images/good_3/a62.tif\n",
      "/raid/mpsych/RISTERLAB/fly_segmentation_experiments/classified_images/good_3/a63.tif\n",
      "/raid/mpsych/RISTERLAB/fly_segmentation_experiments/classified_images/good_3/a64.tif\n",
      "/raid/mpsych/RISTERLAB/fly_segmentation_experiments/classified_images/good_3/a65.tif\n",
      "/raid/mpsych/RISTERLAB/fly_segmentation_experiments/classified_images/good_3/a66.tif\n",
      "/raid/mpsych/RISTERLAB/fly_segmentation_experiments/classified_images/good_3/a67.tif\n",
      "/raid/mpsych/RISTERLAB/fly_segmentation_experiments/classified_images/good_3/a68.tif\n",
      "/raid/mpsych/RISTERLAB/fly_segmentation_experiments/classified_images/good_3/a69.tif\n",
      "/raid/mpsych/RISTERLAB/fly_segmentation_experiments/classified_images/good_3/a70.tif\n",
      "/raid/mpsych/RISTERLAB/fly_segmentation_experiments/classified_images/good_3/a71.tif\n",
      "/raid/mpsych/RISTERLAB/fly_segmentation_experiments/classified_images/good_3/a72.tif\n",
      "/raid/mpsych/RISTERLAB/fly_segmentation_experiments/classified_images/good_3/a73.tif\n",
      "/raid/mpsych/RISTERLAB/fly_segmentation_experiments/classified_images/good_3/a74.tif\n",
      "/raid/mpsych/RISTERLAB/fly_segmentation_experiments/classified_images/good_3/a75.tif\n",
      "/raid/mpsych/RISTERLAB/fly_segmentation_experiments/classified_images/good_3/a76.tif\n",
      "/raid/mpsych/RISTERLAB/fly_segmentation_experiments/classified_images/good_3/a77.tif\n",
      "/raid/mpsych/RISTERLAB/fly_segmentation_experiments/classified_images/good_3/a78.tif\n",
      "/raid/mpsych/RISTERLAB/fly_segmentation_experiments/classified_images/good_3/a79.tif\n",
      "/raid/mpsych/RISTERLAB/fly_segmentation_experiments/classified_images/good_3/a80.tif\n",
      "/raid/mpsych/RISTERLAB/fly_segmentation_experiments/classified_images/good_3/a81.tif\n",
      "/raid/mpsych/RISTERLAB/fly_segmentation_experiments/classified_images/good_3/a82.tif\n",
      "/raid/mpsych/RISTERLAB/fly_segmentation_experiments/classified_images/good_3/a83.tif\n",
      "/raid/mpsych/RISTERLAB/fly_segmentation_experiments/classified_images/good_3/a84.tif\n",
      "/raid/mpsych/RISTERLAB/fly_segmentation_experiments/classified_images/good_3/a85.tif\n",
      "/raid/mpsych/RISTERLAB/fly_segmentation_experiments/classified_images/good_3/a86.tif\n",
      "/raid/mpsych/RISTERLAB/fly_segmentation_experiments/classified_images/good_3/a87.tif\n",
      "/raid/mpsych/RISTERLAB/fly_segmentation_experiments/classified_images/good_3/a88.tif\n",
      "/raid/mpsych/RISTERLAB/fly_segmentation_experiments/classified_images/good_3/a89.tif\n",
      "/raid/mpsych/RISTERLAB/fly_segmentation_experiments/classified_images/good_3/a90.tif\n",
      "/raid/mpsych/RISTERLAB/fly_segmentation_experiments/classified_images/good_3/a91.tif\n",
      "/raid/mpsych/RISTERLAB/fly_segmentation_experiments/classified_images/good_3/a92.tif\n",
      "/raid/mpsych/RISTERLAB/fly_segmentation_experiments/classified_images/good_3/a93.tif\n",
      "/raid/mpsych/RISTERLAB/fly_segmentation_experiments/classified_images/good_3/a94.tif\n",
      "/raid/mpsych/RISTERLAB/fly_segmentation_experiments/classified_images/good_3/a95.tif\n",
      "/raid/mpsych/RISTERLAB/fly_segmentation_experiments/classified_images/good_3/a96.tif\n"
     ]
    },
    {
     "name": "stdout",
     "output_type": "stream",
     "text": [
      "/raid/mpsych/RISTERLAB/fly_segmentation_experiments/classified_images/good_3/a97.tif\n",
      "/raid/mpsych/RISTERLAB/fly_segmentation_experiments/classified_images/good_3/a98.tif\n",
      "/raid/mpsych/RISTERLAB/fly_segmentation_experiments/classified_images/good_3/a99.tif\n",
      "/raid/mpsych/RISTERLAB/fly_segmentation_experiments/classified_images/good_3/a100.tif\n",
      "/raid/mpsych/RISTERLAB/fly_segmentation_experiments/classified_images/good_3/a101.tif\n",
      "/raid/mpsych/RISTERLAB/fly_segmentation_experiments/classified_images/good_3/a102.tif\n",
      "/raid/mpsych/RISTERLAB/fly_segmentation_experiments/classified_images/good_3/a103.tif\n",
      "/raid/mpsych/RISTERLAB/fly_segmentation_experiments/classified_images/good_3/a104.tif\n",
      "/raid/mpsych/RISTERLAB/fly_segmentation_experiments/classified_images/good_3/a105.tif\n",
      "/raid/mpsych/RISTERLAB/fly_segmentation_experiments/classified_images/good_3/a106.tif\n",
      "/raid/mpsych/RISTERLAB/fly_segmentation_experiments/classified_images/good_3/a107.tif\n",
      "/raid/mpsych/RISTERLAB/fly_segmentation_experiments/classified_images/good_3/a108.tif\n",
      "/raid/mpsych/RISTERLAB/fly_segmentation_experiments/classified_images/good_3/a109.tif\n",
      "/raid/mpsych/RISTERLAB/fly_segmentation_experiments/classified_images/good_3/a110.tif\n",
      "/raid/mpsych/RISTERLAB/fly_segmentation_experiments/classified_images/good_3/a111.tif\n",
      "/raid/mpsych/RISTERLAB/fly_segmentation_experiments/classified_images/good_3/a112.tif\n",
      "/raid/mpsych/RISTERLAB/fly_segmentation_experiments/classified_images/good_3/a113.tif\n",
      "/raid/mpsych/RISTERLAB/fly_segmentation_experiments/classified_images/good_3/a114.tif\n",
      "/raid/mpsych/RISTERLAB/fly_segmentation_experiments/classified_images/good_3/a115.tif\n",
      "/raid/mpsych/RISTERLAB/fly_segmentation_experiments/classified_images/good_3/a116.tif\n",
      "/raid/mpsych/RISTERLAB/fly_segmentation_experiments/classified_images/good_3/a117.tif\n",
      "/raid/mpsych/RISTERLAB/fly_segmentation_experiments/classified_images/good_3/a118.tif\n",
      "/raid/mpsych/RISTERLAB/fly_segmentation_experiments/classified_images/good_3/a119.tif\n",
      "/raid/mpsych/RISTERLAB/fly_segmentation_experiments/classified_images/good_3/a120.tif\n",
      "/raid/mpsych/RISTERLAB/fly_segmentation_experiments/classified_images/good_3/a121.tif\n",
      "/raid/mpsych/RISTERLAB/fly_segmentation_experiments/classified_images/good_3/a122.tif\n",
      "/raid/mpsych/RISTERLAB/fly_segmentation_experiments/classified_images/good_3/a123.tif\n",
      "/raid/mpsych/RISTERLAB/fly_segmentation_experiments/classified_images/good_3/a124.tif\n",
      "/raid/mpsych/RISTERLAB/fly_segmentation_experiments/classified_images/good_3/a125.tif\n",
      "/raid/mpsych/RISTERLAB/fly_segmentation_experiments/classified_images/good_3/a126.tif\n",
      "/raid/mpsych/RISTERLAB/fly_segmentation_experiments/classified_images/good_3/a127.tif\n",
      "/raid/mpsych/RISTERLAB/fly_segmentation_experiments/classified_images/good_3/a128.tif\n",
      "/raid/mpsych/RISTERLAB/fly_segmentation_experiments/classified_images/good_3/a129.tif\n",
      "/raid/mpsych/RISTERLAB/fly_segmentation_experiments/classified_images/good_3/a130.tif\n",
      "/raid/mpsych/RISTERLAB/fly_segmentation_experiments/classified_images/good_3/a131.tif\n",
      "/raid/mpsych/RISTERLAB/fly_segmentation_experiments/classified_images/good_3/a132.tif\n",
      "/raid/mpsych/RISTERLAB/fly_segmentation_experiments/classified_images/good_3/a133.tif\n",
      "/raid/mpsych/RISTERLAB/fly_segmentation_experiments/classified_images/good_3/a134.tif\n",
      "/raid/mpsych/RISTERLAB/fly_segmentation_experiments/classified_images/good_3/a135.tif\n",
      "/raid/mpsych/RISTERLAB/fly_segmentation_experiments/classified_images/good_3/a136.tif\n",
      "/raid/mpsych/RISTERLAB/fly_segmentation_experiments/classified_images/good_3/a137.tif\n",
      "/raid/mpsych/RISTERLAB/fly_segmentation_experiments/classified_images/good_3/a138.tif\n",
      "/raid/mpsych/RISTERLAB/fly_segmentation_experiments/classified_images/good_3/a139.tif\n",
      "/raid/mpsych/RISTERLAB/fly_segmentation_experiments/classified_images/good_3/a140.tif\n",
      "/raid/mpsych/RISTERLAB/fly_segmentation_experiments/classified_images/good_3/a141.tif\n",
      "/raid/mpsych/RISTERLAB/fly_segmentation_experiments/classified_images/good_3/a142.tif\n",
      "/raid/mpsych/RISTERLAB/fly_segmentation_experiments/classified_images/good_3/a143.tif\n",
      "/raid/mpsych/RISTERLAB/fly_segmentation_experiments/classified_images/good_3/a144.tif\n",
      "/raid/mpsych/RISTERLAB/fly_segmentation_experiments/classified_images/good_3/a145.tif\n",
      "/raid/mpsych/RISTERLAB/fly_segmentation_experiments/classified_images/good_3/a146.tif\n",
      "/raid/mpsych/RISTERLAB/fly_segmentation_experiments/classified_images/good_3/a147.tif\n",
      "/raid/mpsych/RISTERLAB/fly_segmentation_experiments/classified_images/good_3/a148.tif\n",
      "/raid/mpsych/RISTERLAB/fly_segmentation_experiments/classified_images/good_3/a149.tif\n",
      "/raid/mpsych/RISTERLAB/fly_segmentation_experiments/classified_images/good_3/a150.tif\n",
      "/raid/mpsych/RISTERLAB/fly_segmentation_experiments/classified_images/good_3/a151.tif\n",
      "/raid/mpsych/RISTERLAB/fly_segmentation_experiments/classified_images/good_3/a152.tif\n",
      "/raid/mpsych/RISTERLAB/fly_segmentation_experiments/classified_images/good_3/a153.tif\n",
      "/raid/mpsych/RISTERLAB/fly_segmentation_experiments/classified_images/good_3/a154.tif\n",
      "/raid/mpsych/RISTERLAB/fly_segmentation_experiments/classified_images/good_3/a155.tif\n",
      "/raid/mpsych/RISTERLAB/fly_segmentation_experiments/classified_images/good_3/a156.tif\n",
      "/raid/mpsych/RISTERLAB/fly_segmentation_experiments/classified_images/good_3/a157.tif\n",
      "/raid/mpsych/RISTERLAB/fly_segmentation_experiments/classified_images/good_3/a158.tif\n",
      "/raid/mpsych/RISTERLAB/fly_segmentation_experiments/classified_images/good_3/a159.tif\n",
      "/raid/mpsych/RISTERLAB/fly_segmentation_experiments/classified_images/good_3/a160.tif\n",
      "/raid/mpsych/RISTERLAB/fly_segmentation_experiments/classified_images/good_3/a161.tif\n",
      "/raid/mpsych/RISTERLAB/fly_segmentation_experiments/classified_images/good_3/a162.tif\n",
      "/raid/mpsych/RISTERLAB/fly_segmentation_experiments/classified_images/good_3/a163.tif\n",
      "/raid/mpsych/RISTERLAB/fly_segmentation_experiments/classified_images/good_3/a164.tif\n"
     ]
    }
   ],
   "source": [
    "for i in range(165):\n",
    "    image_file_name = 'a' + str(i) + '.tif'\n",
    "    file_path = os.path.join(DATA_DIR, image_file_name)\n",
    "    print(file_path)\n",
    "    a = mh.imread(file_path)\n",
    "    all_images.append(a)"
   ]
  },
  {
   "cell_type": "code",
   "execution_count": 19,
   "id": "5e4ee08e",
   "metadata": {},
   "outputs": [
    {
     "data": {
      "text/plain": [
       "165"
      ]
     },
     "execution_count": 19,
     "metadata": {},
     "output_type": "execute_result"
    }
   ],
   "source": [
    "len(all_images)"
   ]
  },
  {
   "cell_type": "code",
   "execution_count": 20,
   "id": "0bac90b7",
   "metadata": {},
   "outputs": [],
   "source": [
    "all_image_np_array = np.array(all_images)"
   ]
  },
  {
   "cell_type": "code",
   "execution_count": 21,
   "id": "ed09892e",
   "metadata": {},
   "outputs": [
    {
     "data": {
      "text/plain": [
       "(165, 500, 1500)"
      ]
     },
     "execution_count": 21,
     "metadata": {},
     "output_type": "execute_result"
    }
   ],
   "source": [
    "all_image_np_array.shape"
   ]
  },
  {
   "cell_type": "code",
   "execution_count": 22,
   "id": "de4ef98a",
   "metadata": {},
   "outputs": [
    {
     "data": {
      "text/plain": [
       "dtype('int32')"
      ]
     },
     "execution_count": 22,
     "metadata": {},
     "output_type": "execute_result"
    }
   ],
   "source": [
    "all_image_np_array.dtype"
   ]
  },
  {
   "cell_type": "code",
   "execution_count": 23,
   "id": "6796aee0",
   "metadata": {},
   "outputs": [],
   "source": [
    "np.save(os.path.join(DATA_DIR, 'fly.npy'), all_image_np_array)"
   ]
  },
  {
   "cell_type": "code",
   "execution_count": 24,
   "id": "c79590ea",
   "metadata": {},
   "outputs": [],
   "source": [
    "b = np.load(os.path.join(DATA_DIR, 'fly.npy'))"
   ]
  },
  {
   "cell_type": "code",
   "execution_count": 25,
   "id": "dc55928a",
   "metadata": {},
   "outputs": [
    {
     "data": {
      "text/plain": [
       "(165, 500, 1500)"
      ]
     },
     "execution_count": 25,
     "metadata": {},
     "output_type": "execute_result"
    }
   ],
   "source": [
    "b.shape"
   ]
  },
  {
   "cell_type": "code",
   "execution_count": 26,
   "id": "1aaa874d",
   "metadata": {},
   "outputs": [
    {
     "data": {
      "text/plain": [
       "dtype('int32')"
      ]
     },
     "execution_count": 26,
     "metadata": {},
     "output_type": "execute_result"
    }
   ],
   "source": [
    "b.dtype"
   ]
  },
  {
   "cell_type": "code",
   "execution_count": 27,
   "id": "6ecbedfd",
   "metadata": {},
   "outputs": [],
   "source": [
    "from mpl_toolkits.mplot3d.art3d import Poly3DCollection"
   ]
  },
  {
   "cell_type": "code",
   "execution_count": 28,
   "id": "5870864a",
   "metadata": {},
   "outputs": [],
   "source": [
    "from skimage import measure"
   ]
  },
  {
   "cell_type": "code",
   "execution_count": 29,
   "id": "7435dc72",
   "metadata": {},
   "outputs": [],
   "source": [
    "verts, faces, normals, values = measure.marching_cubes(b, 0)"
   ]
  },
  {
   "cell_type": "code",
   "execution_count": null,
   "id": "f080a5aa",
   "metadata": {},
   "outputs": [],
   "source": [
    "# Display resulting triangular mesh using Matplotlib. This can also be done\n",
    "# with mayavi (see skimage.measure.marching_cubes_lewiner docstring).\n",
    "fig = plt.figure(figsize=(10, 10))\n",
    "ax = fig.add_subplot(111, projection='3d')\n",
    "\n",
    "# Fancy indexing: `verts[faces]` to generate a collection of triangles\n",
    "mesh = Poly3DCollection(verts[faces])\n",
    "mesh.set_edgecolor('k')\n",
    "ax.add_collection3d(mesh)\n",
    "\n",
    "ax.set_xlim(0, 24)  # a = 6 (times two for 2nd ellipsoid)\n",
    "ax.set_ylim(0, 20)  # b = 10\n",
    "ax.set_zlim(0, 32)  # c = 16\n",
    "\n",
    "plt.tight_layout()\n",
    "plt.show()"
   ]
  },
  {
   "cell_type": "code",
   "execution_count": 31,
   "id": "2e8c62f9",
   "metadata": {},
   "outputs": [
    {
     "data": {
      "text/plain": [
       "array([[1.000e+00, 0.000e+00, 1.010e+02],\n",
       "       [0.000e+00, 1.000e+00, 1.000e+02],\n",
       "       [1.000e+00, 1.000e+00, 1.010e+02],\n",
       "       ...,\n",
       "       [1.640e+02, 4.990e+02, 1.429e+03],\n",
       "       [1.640e+02, 4.990e+02, 1.430e+03],\n",
       "       [1.640e+02, 4.990e+02, 1.431e+03]], dtype=float32)"
      ]
     },
     "execution_count": 31,
     "metadata": {},
     "output_type": "execute_result"
    }
   ],
   "source": [
    "verts"
   ]
  },
  {
   "cell_type": "code",
   "execution_count": 32,
   "id": "74a7dc09",
   "metadata": {},
   "outputs": [
    {
     "data": {
      "text/plain": [
       "43638230"
      ]
     },
     "execution_count": 32,
     "metadata": {},
     "output_type": "execute_result"
    }
   ],
   "source": [
    "len(verts)"
   ]
  },
  {
   "cell_type": "code",
   "execution_count": 33,
   "id": "93cc2dc0",
   "metadata": {},
   "outputs": [
    {
     "data": {
      "text/plain": [
       "87137724"
      ]
     },
     "execution_count": 33,
     "metadata": {},
     "output_type": "execute_result"
    }
   ],
   "source": [
    "len(faces)"
   ]
  },
  {
   "cell_type": "code",
   "execution_count": 34,
   "id": "70fd74e4",
   "metadata": {},
   "outputs": [
    {
     "data": {
      "text/plain": [
       "43638230"
      ]
     },
     "execution_count": 34,
     "metadata": {},
     "output_type": "execute_result"
    }
   ],
   "source": [
    "len(normals)"
   ]
  },
  {
   "cell_type": "code",
   "execution_count": 35,
   "id": "809e0801",
   "metadata": {},
   "outputs": [
    {
     "data": {
      "text/plain": [
       "43638230"
      ]
     },
     "execution_count": 35,
     "metadata": {},
     "output_type": "execute_result"
    }
   ],
   "source": [
    "len(values)"
   ]
  },
  {
   "cell_type": "code",
   "execution_count": null,
   "id": "e9bcb854",
   "metadata": {},
   "outputs": [],
   "source": [
    "# Display resulting triangular mesh using Matplotlib. This can also be done\n",
    "# with mayavi (see skimage.measure.marching_cubes_lewiner docstring).\n",
    "fig = plt.figure(figsize=(10, 10))\n",
    "ax = fig.add_subplot(111, projection='3d')\n",
    "\n",
    "# Fancy indexing: `verts[faces]` to generate a collection of triangles\n",
    "mesh = Poly3DCollection(verts[faces])\n",
    "mesh.set_edgecolor('k')\n",
    "ax.add_collection3d(mesh)\n",
    "\n",
    "ax.set_xlim(0, 500)  # a = 6 (times two for 2nd ellipsoid)\n",
    "ax.set_ylim(0, 1500)  # b = 10\n",
    "ax.set_zlim(0, 165)  # c = 16\n",
    "\n",
    "plt.tight_layout()\n",
    "plt.show()"
   ]
  },
  {
   "cell_type": "code",
   "execution_count": null,
   "id": "cef776c5",
   "metadata": {},
   "outputs": [],
   "source": []
  }
 ],
 "metadata": {
  "kernelspec": {
   "display_name": "Python 3 (ipykernel)",
   "language": "python",
   "name": "python3"
  },
  "language_info": {
   "codemirror_mode": {
    "name": "ipython",
    "version": 3
   },
   "file_extension": ".py",
   "mimetype": "text/x-python",
   "name": "python",
   "nbconvert_exporter": "python",
   "pygments_lexer": "ipython3",
   "version": "3.9.7"
  }
 },
 "nbformat": 4,
 "nbformat_minor": 5
}
